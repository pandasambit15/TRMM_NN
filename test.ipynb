{
 "cells": [
  {
   "cell_type": "markdown",
   "metadata": {
    "toc": "true"
   },
   "source": [
    " # Table of Contents\n",
    "<div class=\"toc\" style=\"margin-top: 1em;\"><ul class=\"toc-item\" id=\"toc-level0\"><li><span><a href=\"http://localhost:8887/notebooks/Untitled.ipynb#Get-data\" data-toc-modified-id=\"Get-data-1\"><span class=\"toc-item-num\">1&nbsp;&nbsp;</span>Get data</a></span></li><li><span><a href=\"http://localhost:8887/notebooks/Untitled.ipynb#Read-and-preprocess-data\" data-toc-modified-id=\"Read-and-preprocess-data-2\"><span class=\"toc-item-num\">2&nbsp;&nbsp;</span>Read and preprocess data</a></span></li><li><span><a href=\"http://localhost:8887/notebooks/Untitled.ipynb#Compute-climatology\" data-toc-modified-id=\"Compute-climatology-3\"><span class=\"toc-item-num\">3&nbsp;&nbsp;</span>Compute climatology</a></span></li><li><span><a href=\"http://localhost:8887/notebooks/Untitled.ipynb#Prep-data-for-network\" data-toc-modified-id=\"Prep-data-for-network-4\"><span class=\"toc-item-num\">4&nbsp;&nbsp;</span>Prep data for network</a></span></li><li><span><a href=\"http://localhost:8887/notebooks/Untitled.ipynb#Simple-network\" data-toc-modified-id=\"Simple-network-5\"><span class=\"toc-item-num\">5&nbsp;&nbsp;</span>Simple network</a></span></li><li><span><a href=\"http://localhost:8887/notebooks/Untitled.ipynb#Sliding-input\" data-toc-modified-id=\"Sliding-input-6\"><span class=\"toc-item-num\">6&nbsp;&nbsp;</span>Sliding input</a></span></li><li><span><a href=\"http://localhost:8887/notebooks/Untitled.ipynb#No-emb-model\" data-toc-modified-id=\"No-emb-model-7\"><span class=\"toc-item-num\">7&nbsp;&nbsp;</span>No emb model</a></span></li><li><span><a href=\"http://localhost:8887/notebooks/Untitled.ipynb#Emb-model\" data-toc-modified-id=\"Emb-model-8\"><span class=\"toc-item-num\">8&nbsp;&nbsp;</span>Emb model</a></span></li><li><span><a href=\"http://localhost:8887/notebooks/Untitled.ipynb#Reshape-preds\" data-toc-modified-id=\"Reshape-preds-9\"><span class=\"toc-item-num\">9&nbsp;&nbsp;</span>Reshape preds</a></span></li></ul></div>"
   ]
  },
  {
   "cell_type": "markdown",
   "metadata": {},
   "source": [
    "# Trial: TRMM predictions for West Africa\n",
    "\n",
    "1. Get data\n",
    "2. Read and preprocess data\n",
    "3. Compute climatology and reference score\n",
    "4. Prepare data for network\n",
    "5. Simple reference experiments"
   ]
  },
  {
   "cell_type": "code",
   "execution_count": 1,
   "metadata": {
    "collapsed": true
   },
   "outputs": [],
   "source": [
    "# Imports\n",
    "import netCDF4 as nc\n",
    "import numpy as np\n",
    "import h5py\n",
    "import matplotlib.pyplot as plt\n",
    "from datetime import datetime, timedelta"
   ]
  },
  {
   "cell_type": "code",
   "execution_count": 2,
   "metadata": {
    "collapsed": true
   },
   "outputs": [],
   "source": [
    "# Plotting setup\n",
    "%matplotlib inline\n",
    "np.random.seed(42)\n",
    "plt.rcParams[\"figure.figsize\"] = (10,7)"
   ]
  },
  {
   "cell_type": "markdown",
   "metadata": {},
   "source": [
    "## Get data\n",
    "\n",
    "https://disc.gsfc.nasa.gov/data-access#mac_linux_wget\n",
    "\n",
    "wget --user \"raspstephan\"  --password \"***\" --dns-timeout=5 --connect-timeout=8 -e robots=off -N -r -np -nv -c -nd -A nc4 -P /Volumes/STICK/data/TRMM/ -i TRMM_3B42RT_Daily_V7_links_20171117_195558.txt"
   ]
  },
  {
   "cell_type": "markdown",
   "metadata": {},
   "source": [
    "## Read and preprocess data"
   ]
  },
  {
   "cell_type": "code",
   "execution_count": 3,
   "metadata": {
    "collapsed": true
   },
   "outputs": [],
   "source": [
    "data_dir = '/project/meteo/w2w/A6/S.Rasp/TRMM/'"
   ]
  },
  {
   "cell_type": "code",
   "execution_count": 4,
   "metadata": {
    "collapsed": true
   },
   "outputs": [],
   "source": [
    "rg = nc.Dataset(data_dir + '3B42RT_Daily.20010101.7.nc4')"
   ]
  },
  {
   "cell_type": "code",
   "execution_count": 5,
   "metadata": {},
   "outputs": [
    {
     "data": {
      "text/plain": [
       "<class 'netCDF4._netCDF4.Dataset'>\n",
       "root group (NETCDF4 data model, file format HDF5):\n",
       "    BeginDate: 2001-01-01\n",
       "    BeginTime: 01:30:00.000Z\n",
       "    EndDate: 2001-01-02\n",
       "    EndTime: 01:29:59.999Z\n",
       "    FileHeader: StartGranuleDateTime=2001-01-01T01:30:00.000Z;\n",
       "StopGranuleDateTime=2001-01-02T01:29:59.999Z\n",
       "    InputPointer: /ftp/data/s4pa/.Zxt5FGhb5T/TRMM_RT/TRMM_3B42RT.7/2001/001/3B42RT.2001010103.7R2.nc4;/ftp/data/s4pa/.Zxt5FGhb5T/TRMM_RT/TRMM_3B42RT.7/2001/001/3B42RT.2001010106.7R2.nc4;/ftp/data/s4pa/.Zxt5FGhb5T/TRMM_RT/TRMM_3B42RT.7/2001/001/3B42RT.2001010109.7R2.nc4;/ftp/data/s4pa/.Zxt5FGhb5T/TRMM_RT/TRMM_3B42RT.7/2001/001/3B42RT.2001010112.7R2.nc4;/ftp/data/s4pa/.Zxt5FGhb5T/TRMM_RT/TRMM_3B42RT.7/2001/001/3B42RT.2001010115.7R2.nc4;/ftp/data/s4pa/.Zxt5FGhb5T/TRMM_RT/TRMM_3B42RT.7/2001/001/3B42RT.2001010118.7R2.nc4;/ftp/data/s4pa/.Zxt5FGhb5T/TRMM_RT/TRMM_3B42RT.7/2001/001/3B42RT.2001010121.7R2.nc4;/ftp/data/s4pa/.Zxt5FGhb5T/TRMM_RT/TRMM_3B42RT.7/2001/001/3B42RT.2001010200.7R2.nc4\n",
       "    title: TRMM (TMPA) Near Real-Time 3B42 L3 Daily  0.25 x 0.25 degree (TRMM_3B42RT_Daily)\n",
       "    ProductionTime: 2016-07-20T16:14:23.000Z\n",
       "    dimensions(sizes): lon(1440), lat(480)\n",
       "    variables(dimensions): float32 \u001b[4mprecipitation\u001b[0m(lon,lat), int8 \u001b[4mprecipitation_cnt\u001b[0m(lon,lat), float32 \u001b[4muncal_precipitation\u001b[0m(lon,lat), int8 \u001b[4muncal_precipitation_cnt\u001b[0m(lon,lat), float32 \u001b[4mrandomError\u001b[0m(lon,lat), int8 \u001b[4mrandomError_cnt\u001b[0m(lon,lat), float32 \u001b[4mlon\u001b[0m(lon), float32 \u001b[4mlat\u001b[0m(lat)\n",
       "    groups: "
      ]
     },
     "execution_count": 5,
     "metadata": {},
     "output_type": "execute_result"
    }
   ],
   "source": [
    "rg"
   ]
  },
  {
   "cell_type": "code",
   "execution_count": 6,
   "metadata": {},
   "outputs": [
    {
     "data": {
      "text/plain": [
       "array([-179.875, -179.625, -179.375, ...,  179.375,  179.625,  179.875], dtype=float32)"
      ]
     },
     "execution_count": 6,
     "metadata": {},
     "output_type": "execute_result"
    }
   ],
   "source": [
    "lon = rg.variables['lon'][:]\n",
    "lon"
   ]
  },
  {
   "cell_type": "code",
   "execution_count": 7,
   "metadata": {
    "scrolled": true
   },
   "outputs": [
    {
     "data": {
      "text/plain": [
       "array([-59.875, -59.625, -59.375, -59.125, -58.875, -58.625, -58.375,\n",
       "       -58.125, -57.875, -57.625, -57.375, -57.125, -56.875, -56.625,\n",
       "       -56.375, -56.125, -55.875, -55.625, -55.375, -55.125, -54.875,\n",
       "       -54.625, -54.375, -54.125, -53.875, -53.625, -53.375, -53.125,\n",
       "       -52.875, -52.625, -52.375, -52.125, -51.875, -51.625, -51.375,\n",
       "       -51.125, -50.875, -50.625, -50.375, -50.125, -49.875, -49.625,\n",
       "       -49.375, -49.125, -48.875, -48.625, -48.375, -48.125, -47.875,\n",
       "       -47.625, -47.375, -47.125, -46.875, -46.625, -46.375, -46.125,\n",
       "       -45.875, -45.625, -45.375, -45.125, -44.875, -44.625, -44.375,\n",
       "       -44.125, -43.875, -43.625, -43.375, -43.125, -42.875, -42.625,\n",
       "       -42.375, -42.125, -41.875, -41.625, -41.375, -41.125, -40.875,\n",
       "       -40.625, -40.375, -40.125, -39.875, -39.625, -39.375, -39.125,\n",
       "       -38.875, -38.625, -38.375, -38.125, -37.875, -37.625, -37.375,\n",
       "       -37.125, -36.875, -36.625, -36.375, -36.125, -35.875, -35.625,\n",
       "       -35.375, -35.125, -34.875, -34.625, -34.375, -34.125, -33.875,\n",
       "       -33.625, -33.375, -33.125, -32.875, -32.625, -32.375, -32.125,\n",
       "       -31.875, -31.625, -31.375, -31.125, -30.875, -30.625, -30.375,\n",
       "       -30.125, -29.875, -29.625, -29.375, -29.125, -28.875, -28.625,\n",
       "       -28.375, -28.125, -27.875, -27.625, -27.375, -27.125, -26.875,\n",
       "       -26.625, -26.375, -26.125, -25.875, -25.625, -25.375, -25.125,\n",
       "       -24.875, -24.625, -24.375, -24.125, -23.875, -23.625, -23.375,\n",
       "       -23.125, -22.875, -22.625, -22.375, -22.125, -21.875, -21.625,\n",
       "       -21.375, -21.125, -20.875, -20.625, -20.375, -20.125, -19.875,\n",
       "       -19.625, -19.375, -19.125, -18.875, -18.625, -18.375, -18.125,\n",
       "       -17.875, -17.625, -17.375, -17.125, -16.875, -16.625, -16.375,\n",
       "       -16.125, -15.875, -15.625, -15.375, -15.125, -14.875, -14.625,\n",
       "       -14.375, -14.125, -13.875, -13.625, -13.375, -13.125, -12.875,\n",
       "       -12.625, -12.375, -12.125, -11.875, -11.625, -11.375, -11.125,\n",
       "       -10.875, -10.625, -10.375, -10.125,  -9.875,  -9.625,  -9.375,\n",
       "        -9.125,  -8.875,  -8.625,  -8.375,  -8.125,  -7.875,  -7.625,\n",
       "        -7.375,  -7.125,  -6.875,  -6.625,  -6.375,  -6.125,  -5.875,\n",
       "        -5.625,  -5.375,  -5.125,  -4.875,  -4.625,  -4.375,  -4.125,\n",
       "        -3.875,  -3.625,  -3.375,  -3.125,  -2.875,  -2.625,  -2.375,\n",
       "        -2.125,  -1.875,  -1.625,  -1.375,  -1.125,  -0.875,  -0.625,\n",
       "        -0.375,  -0.125,   0.125,   0.375,   0.625,   0.875,   1.125,\n",
       "         1.375,   1.625,   1.875,   2.125,   2.375,   2.625,   2.875,\n",
       "         3.125,   3.375,   3.625,   3.875,   4.125,   4.375,   4.625,\n",
       "         4.875,   5.125,   5.375,   5.625,   5.875,   6.125,   6.375,\n",
       "         6.625,   6.875,   7.125,   7.375,   7.625,   7.875,   8.125,\n",
       "         8.375,   8.625,   8.875,   9.125,   9.375,   9.625,   9.875,\n",
       "        10.125,  10.375,  10.625,  10.875,  11.125,  11.375,  11.625,\n",
       "        11.875,  12.125,  12.375,  12.625,  12.875,  13.125,  13.375,\n",
       "        13.625,  13.875,  14.125,  14.375,  14.625,  14.875,  15.125,\n",
       "        15.375,  15.625,  15.875,  16.125,  16.375,  16.625,  16.875,\n",
       "        17.125,  17.375,  17.625,  17.875,  18.125,  18.375,  18.625,\n",
       "        18.875,  19.125,  19.375,  19.625,  19.875,  20.125,  20.375,\n",
       "        20.625,  20.875,  21.125,  21.375,  21.625,  21.875,  22.125,\n",
       "        22.375,  22.625,  22.875,  23.125,  23.375,  23.625,  23.875,\n",
       "        24.125,  24.375,  24.625,  24.875,  25.125,  25.375,  25.625,\n",
       "        25.875,  26.125,  26.375,  26.625,  26.875,  27.125,  27.375,\n",
       "        27.625,  27.875,  28.125,  28.375,  28.625,  28.875,  29.125,\n",
       "        29.375,  29.625,  29.875,  30.125,  30.375,  30.625,  30.875,\n",
       "        31.125,  31.375,  31.625,  31.875,  32.125,  32.375,  32.625,\n",
       "        32.875,  33.125,  33.375,  33.625,  33.875,  34.125,  34.375,\n",
       "        34.625,  34.875,  35.125,  35.375,  35.625,  35.875,  36.125,\n",
       "        36.375,  36.625,  36.875,  37.125,  37.375,  37.625,  37.875,\n",
       "        38.125,  38.375,  38.625,  38.875,  39.125,  39.375,  39.625,\n",
       "        39.875,  40.125,  40.375,  40.625,  40.875,  41.125,  41.375,\n",
       "        41.625,  41.875,  42.125,  42.375,  42.625,  42.875,  43.125,\n",
       "        43.375,  43.625,  43.875,  44.125,  44.375,  44.625,  44.875,\n",
       "        45.125,  45.375,  45.625,  45.875,  46.125,  46.375,  46.625,\n",
       "        46.875,  47.125,  47.375,  47.625,  47.875,  48.125,  48.375,\n",
       "        48.625,  48.875,  49.125,  49.375,  49.625,  49.875,  50.125,\n",
       "        50.375,  50.625,  50.875,  51.125,  51.375,  51.625,  51.875,\n",
       "        52.125,  52.375,  52.625,  52.875,  53.125,  53.375,  53.625,\n",
       "        53.875,  54.125,  54.375,  54.625,  54.875,  55.125,  55.375,\n",
       "        55.625,  55.875,  56.125,  56.375,  56.625,  56.875,  57.125,\n",
       "        57.375,  57.625,  57.875,  58.125,  58.375,  58.625,  58.875,\n",
       "        59.125,  59.375,  59.625,  59.875], dtype=float32)"
      ]
     },
     "execution_count": 7,
     "metadata": {},
     "output_type": "execute_result"
    }
   ],
   "source": [
    "lat = rg.variables['lat'][:]\n",
    "lat"
   ]
  },
  {
   "cell_type": "code",
   "execution_count": 8,
   "metadata": {
    "collapsed": true
   },
   "outputs": [],
   "source": [
    "rg.close()"
   ]
  },
  {
   "cell_type": "code",
   "execution_count": 8,
   "metadata": {
    "collapsed": true
   },
   "outputs": [],
   "source": [
    "# Define lat-lon regions\n",
    "# For input -60,-10,70,30\n",
    "# Smaller -30,0,40,25\n",
    "lon_idxs = (lon > -30) & (lon < 40)\n",
    "lat_idxs = (lat > 0) & (lat < 25)"
   ]
  },
  {
   "cell_type": "code",
   "execution_count": 9,
   "metadata": {
    "collapsed": true
   },
   "outputs": [],
   "source": [
    "cropped_lon = lon[lon_idxs]\n",
    "cropped_lat = lat[lat_idxs]"
   ]
  },
  {
   "cell_type": "code",
   "execution_count": 11,
   "metadata": {
    "collapsed": true
   },
   "outputs": [],
   "source": [
    "# Read all of 2001\n",
    "def get_trmm_fn(data_dir, yyyy, mm, dd):\n",
    "    fn = (data_dir + '/3B42RT_Daily.' + str(yyyy) + str(mm).zfill(2) + \n",
    "          str(dd).zfill(2) + '.7.nc4')\n",
    "    return fn"
   ]
  },
  {
   "cell_type": "code",
   "execution_count": 12,
   "metadata": {
    "collapsed": true
   },
   "outputs": [],
   "source": [
    "def get_prec_year(yyyy):\n",
    "    prec_list = []\n",
    "    td_start = datetime(yyyy, 1, 1)\n",
    "    td_stop = datetime(yyyy + 1, 1, 1)\n",
    "    t = td_start\n",
    "    while t < td_stop:\n",
    "        # skip leap days\n",
    "        if t.month == 2 and t.day == 29:\n",
    "            print('Leap day', t)\n",
    "            t += timedelta(days=1)\n",
    "            continue\n",
    "        fn = get_trmm_fn(data_dir, t.year, t.month, t.day)\n",
    "        with nc.Dataset(fn) as rg:\n",
    "            p = rg.variables['precipitation'][lon_idxs, lat_idxs]\n",
    "        prec_list.append(p)\n",
    "        t += timedelta(days=1)\n",
    "    return np.array(prec_list)"
   ]
  },
  {
   "cell_type": "code",
   "execution_count": 13,
   "metadata": {
    "collapsed": true
   },
   "outputs": [],
   "source": [
    "def loop_years(yyyy_start, yyyy_stop):\n",
    "    year_list = []\n",
    "    for yyyy in range(yyyy_start, yyyy_stop + 1):\n",
    "        print(yyyy)\n",
    "        year_list.append(get_prec_year(yyyy))\n",
    "    return np.array(year_list)"
   ]
  },
  {
   "cell_type": "code",
   "execution_count": 81,
   "metadata": {},
   "outputs": [
    {
     "name": "stdout",
     "output_type": "stream",
     "text": [
      "2001\n",
      "2002\n",
      "2003\n",
      "2004\n",
      "Leap day 2004-02-29 00:00:00\n",
      "2005\n",
      "2006\n",
      "2007\n",
      "2008\n",
      "Leap day 2008-02-29 00:00:00\n",
      "2009\n",
      "2010\n",
      "2011\n",
      "2012\n",
      "Leap day 2012-02-29 00:00:00\n",
      "2013\n",
      "2014\n",
      "2015\n",
      "2016\n",
      "Leap day 2016-02-29 00:00:00\n"
     ]
    }
   ],
   "source": [
    "prec = loop_years(2001, 2016)"
   ]
  },
  {
   "cell_type": "code",
   "execution_count": 86,
   "metadata": {
    "collapsed": true
   },
   "outputs": [],
   "source": [
    "np.save(data_dir + 'pp_prec.npy', prec)"
   ]
  },
  {
   "cell_type": "code",
   "execution_count": 10,
   "metadata": {
    "collapsed": true
   },
   "outputs": [],
   "source": [
    "prec = np.load(data_dir + 'pp_prec.npy')"
   ]
  },
  {
   "cell_type": "code",
   "execution_count": 11,
   "metadata": {},
   "outputs": [
    {
     "data": {
      "text/plain": [
       "(16, 365, 280, 100)"
      ]
     },
     "execution_count": 11,
     "metadata": {},
     "output_type": "execute_result"
    }
   ],
   "source": [
    "prec.shape"
   ]
  },
  {
   "cell_type": "code",
   "execution_count": 12,
   "metadata": {
    "collapsed": true
   },
   "outputs": [],
   "source": [
    "thresh = 0.1"
   ]
  },
  {
   "cell_type": "code",
   "execution_count": 13,
   "metadata": {
    "collapsed": true
   },
   "outputs": [],
   "source": [
    "bin_prec = np.array(prec > 0.1, dtype=int)"
   ]
  },
  {
   "cell_type": "code",
   "execution_count": 14,
   "metadata": {},
   "outputs": [
    {
     "data": {
      "text/plain": [
       "<matplotlib.image.AxesImage at 0x7fc15d96edd8>"
      ]
     },
     "execution_count": 14,
     "metadata": {},
     "output_type": "execute_result"
    },
    {
     "data": {
      "image/png": "[encoded data removed]",
      "text/plain": [
       "<matplotlib.figure.Figure at 0x7fc15d8f5da0>"
      ]
     },
     "metadata": {},
     "output_type": "display_data"
    }
   ],
   "source": [
    "plt.imshow(prec[0, 0].T)"
   ]
  },
  {
   "cell_type": "markdown",
   "metadata": {},
   "source": [
    "## Compute climatology"
   ]
  },
  {
   "cell_type": "code",
   "execution_count": 16,
   "metadata": {
    "collapsed": true
   },
   "outputs": [],
   "source": [
    "def get_clim(bin_prec):\n",
    "    return np.mean(bin_prec, axis=0)"
   ]
  },
  {
   "cell_type": "code",
   "execution_count": 17,
   "metadata": {},
   "outputs": [],
   "source": [
    "clim = get_clim(bin_prec[:-1])"
   ]
  },
  {
   "cell_type": "code",
   "execution_count": 18,
   "metadata": {
    "collapsed": true
   },
   "outputs": [],
   "source": [
    "def brier_score(y_true, y_pred):\n",
    "    return np.mean(np.square(y_true - y_pred))"
   ]
  },
  {
   "cell_type": "code",
   "execution_count": 19,
   "metadata": {},
   "outputs": [
    {
     "data": {
      "text/plain": [
       "0.11988941856925407"
      ]
     },
     "execution_count": 19,
     "metadata": {},
     "output_type": "execute_result"
    }
   ],
   "source": [
    "brier_score(clim, bin_prec[-1])"
   ]
  },
  {
   "cell_type": "markdown",
   "metadata": {
    "heading_collapsed": true
   },
   "source": [
    "## Prep data for network"
   ]
  },
  {
   "cell_type": "code",
   "execution_count": 20,
   "metadata": {
    "hidden": true
   },
   "outputs": [
    {
     "data": {
      "text/plain": [
       "(16, 365, 280, 100)"
      ]
     },
     "execution_count": 20,
     "metadata": {},
     "output_type": "execute_result"
    }
   ],
   "source": [
    "prec.shape"
   ]
  },
  {
   "cell_type": "code",
   "execution_count": 21,
   "metadata": {
    "hidden": true
   },
   "outputs": [
    {
     "data": {
      "text/plain": [
       "(16, 365, 280, 100)"
      ]
     },
     "execution_count": 21,
     "metadata": {},
     "output_type": "execute_result"
    }
   ],
   "source": [
    "bin_prec.shape"
   ]
  },
  {
   "cell_type": "code",
   "execution_count": 22,
   "metadata": {
    "hidden": true
   },
   "outputs": [
    {
     "data": {
      "text/plain": [
       "((280,), (100,))"
      ]
     },
     "execution_count": 22,
     "metadata": {},
     "output_type": "execute_result"
    }
   ],
   "source": [
    "cropped_lon.shape, cropped_lat.shape"
   ]
  },
  {
   "cell_type": "code",
   "execution_count": 23,
   "metadata": {
    "hidden": true
   },
   "outputs": [
    {
     "data": {
      "text/plain": [
       "(array([ 5.125,  5.375,  5.625,  5.875], dtype=float32),\n",
       " array([ 7.125,  7.375,  7.625,  7.875], dtype=float32))"
      ]
     },
     "execution_count": 23,
     "metadata": {},
     "output_type": "execute_result"
    }
   ],
   "source": [
    "# -20,-0,20,20\n",
    "# Way too large\n",
    "tar_lon_idxs = (cropped_lon > 5) & (cropped_lon < 6)\n",
    "tar_lat_idxs = (cropped_lat > 7) & (cropped_lat < 8)\n",
    "tar_lon = cropped_lon[tar_lon_idxs]\n",
    "tar_lat = cropped_lat[tar_lat_idxs]\n",
    "tar_lon, tar_lat"
   ]
  },
  {
   "cell_type": "code",
   "execution_count": 95,
   "metadata": {
    "hidden": true
   },
   "outputs": [
    {
     "data": {
      "text/plain": [
       "(5840, 280, 100)"
      ]
     },
     "execution_count": 95,
     "metadata": {},
     "output_type": "execute_result"
    }
   ],
   "source": [
    "features = np.reshape(prec, (prec.shape[0] * 365, prec.shape[2], prec.shape[3]))\n",
    "features.shape"
   ]
  },
  {
   "cell_type": "code",
   "execution_count": 96,
   "metadata": {
    "hidden": true
   },
   "outputs": [
    {
     "data": {
      "text/plain": [
       "(5839, 280, 100)"
      ]
     },
     "execution_count": 96,
     "metadata": {},
     "output_type": "execute_result"
    }
   ],
   "source": [
    "# last day of 2010 to 30 dec 2011\n",
    "features = features[:-1]\n",
    "features.shape"
   ]
  },
  {
   "cell_type": "code",
   "execution_count": 97,
   "metadata": {
    "hidden": true
   },
   "outputs": [
    {
     "data": {
      "text/plain": [
       "(16, 365, 4, 4)"
      ]
     },
     "execution_count": 97,
     "metadata": {},
     "output_type": "execute_result"
    }
   ],
   "source": [
    "targets = (bin_prec[:, :, tar_lon_idxs, :])[:, :, :, tar_lat_idxs]\n",
    "targets.shape"
   ]
  },
  {
   "cell_type": "code",
   "execution_count": 98,
   "metadata": {
    "hidden": true
   },
   "outputs": [
    {
     "data": {
      "text/plain": [
       "(5840, 4, 4)"
      ]
     },
     "execution_count": 98,
     "metadata": {},
     "output_type": "execute_result"
    }
   ],
   "source": [
    "targets = np.reshape(targets, (targets.shape[0] * 365, targets.shape[2], targets.shape[3]))\n",
    "targets.shape"
   ]
  },
  {
   "cell_type": "code",
   "execution_count": 99,
   "metadata": {
    "hidden": true
   },
   "outputs": [
    {
     "data": {
      "text/plain": [
       "(5839, 4, 4)"
      ]
     },
     "execution_count": 99,
     "metadata": {},
     "output_type": "execute_result"
    }
   ],
   "source": [
    "targets = targets[1:]\n",
    "targets.shape"
   ]
  },
  {
   "cell_type": "code",
   "execution_count": 100,
   "metadata": {
    "hidden": true
   },
   "outputs": [
    {
     "data": {
      "text/plain": [
       "<matplotlib.image.AxesImage at 0x7f8fbc32a8d0>"
      ]
     },
     "execution_count": 100,
     "metadata": {},
     "output_type": "execute_result"
    },
    {
     "data": {
      "image/png": "[encoded data removed]",
      "text/plain": [
       "<matplotlib.figure.Figure at 0x7f8fbc3d3240>"
      ]
     },
     "metadata": {},
     "output_type": "display_data"
    }
   ],
   "source": [
    "plt.imshow(features[0].T)"
   ]
  },
  {
   "cell_type": "code",
   "execution_count": 101,
   "metadata": {
    "hidden": true
   },
   "outputs": [
    {
     "data": {
      "text/plain": [
       "<matplotlib.image.AxesImage at 0x7f8fbc2b3e80>"
      ]
     },
     "execution_count": 101,
     "metadata": {},
     "output_type": "execute_result"
    },
    {
     "data": {
      "image/png": "[encoded data removed]",
      "text/plain": [
       "<matplotlib.figure.Figure at 0x7f8fbc3fa518>"
      ]
     },
     "metadata": {},
     "output_type": "display_data"
    }
   ],
   "source": [
    "plt.imshow(targets[0].T)"
   ]
  },
  {
   "cell_type": "code",
   "execution_count": 102,
   "metadata": {
    "hidden": true
   },
   "outputs": [
    {
     "data": {
      "text/plain": [
       "(365, 4, 4)"
      ]
     },
     "execution_count": 102,
     "metadata": {},
     "output_type": "execute_result"
    }
   ],
   "source": [
    "# Clim for target region\n",
    "tar_clim = (clim[:, tar_lon_idxs, :])[:, :, tar_lat_idxs]\n",
    "tar_clim.shape"
   ]
  },
  {
   "cell_type": "code",
   "execution_count": 103,
   "metadata": {
    "hidden": true
   },
   "outputs": [
    {
     "data": {
      "text/plain": [
       "0.17197666952054794"
      ]
     },
     "execution_count": 103,
     "metadata": {},
     "output_type": "execute_result"
    }
   ],
   "source": [
    "# BS for target region in 2011\n",
    "brier_score(tar_clim, targets[-365:])"
   ]
  },
  {
   "cell_type": "code",
   "execution_count": 104,
   "metadata": {
    "hidden": true
   },
   "outputs": [
    {
     "data": {
      "text/plain": [
       "((5839, 280, 100), (5839, 4, 4))"
      ]
     },
     "execution_count": 104,
     "metadata": {},
     "output_type": "execute_result"
    }
   ],
   "source": [
    "features.shape, targets.shape"
   ]
  },
  {
   "cell_type": "code",
   "execution_count": 105,
   "metadata": {
    "hidden": true
   },
   "outputs": [
    {
     "data": {
      "text/plain": [
       "((5839, 28000), (5839, 16))"
      ]
     },
     "execution_count": 105,
     "metadata": {},
     "output_type": "execute_result"
    }
   ],
   "source": [
    "features = np.reshape(features, (features.shape[0], -1))\n",
    "targets = np.reshape(targets, (targets.shape[0], -1))\n",
    "features.shape, targets.shape"
   ]
  },
  {
   "cell_type": "code",
   "execution_count": 106,
   "metadata": {
    "collapsed": true,
    "hidden": true
   },
   "outputs": [],
   "source": [
    "train_features = features[:-365]\n",
    "valid_features = features[-365:]\n",
    "train_targets = targets[:-365]\n",
    "valid_targets = targets[-365:]"
   ]
  },
  {
   "cell_type": "code",
   "execution_count": 107,
   "metadata": {
    "collapsed": true,
    "hidden": true
   },
   "outputs": [],
   "source": [
    "train_mean = np.mean(train_features, axis=0)\n",
    "train_std = np.std(train_features, axis=0, ddof=1)\n",
    "train_std = np.maximum(1e-20, train_std)\n",
    "train_features = (train_features - train_mean) / train_std\n",
    "valid_features = (valid_features - train_mean) / train_std"
   ]
  },
  {
   "cell_type": "markdown",
   "metadata": {
    "heading_collapsed": true
   },
   "source": [
    "## Simple network"
   ]
  },
  {
   "cell_type": "code",
   "execution_count": 24,
   "metadata": {
    "hidden": true
   },
   "outputs": [
    {
     "name": "stderr",
     "output_type": "stream",
     "text": [
      "Using TensorFlow backend.\n"
     ]
    }
   ],
   "source": [
    "import keras\n",
    "import keras.backend as K\n",
    "from keras.models import Sequential\n",
    "from keras.layers import Dense\n",
    "from keras.optimizers import Adam"
   ]
  },
  {
   "cell_type": "code",
   "execution_count": 25,
   "metadata": {
    "collapsed": true,
    "hidden": true
   },
   "outputs": [],
   "source": [
    "# Limit Tensorflow GPU memory usage. \n",
    "# Note that it's not possible to change the allocation or release memory again.\n",
    "import tensorflow as tf\n",
    "config = tf.ConfigProto()\n",
    "config.gpu_options.allow_growth = True   # Allocates as much memory as needed.\n",
    "keras.backend.tensorflow_backend.set_session(tf.Session(config=config))"
   ]
  },
  {
   "cell_type": "code",
   "execution_count": 26,
   "metadata": {
    "collapsed": true,
    "hidden": true
   },
   "outputs": [],
   "source": [
    "def bs_loss(y_true, y_pred):\n",
    "    return K.mean(K.square(y_true - y_pred))"
   ]
  },
  {
   "cell_type": "code",
   "execution_count": 111,
   "metadata": {
    "hidden": true
   },
   "outputs": [
    {
     "data": {
      "text/plain": [
       "((5839, 28000), (5839, 16))"
      ]
     },
     "execution_count": 111,
     "metadata": {},
     "output_type": "execute_result"
    }
   ],
   "source": [
    "features.shape, targets.shape"
   ]
  },
  {
   "cell_type": "code",
   "execution_count": 112,
   "metadata": {
    "collapsed": true,
    "hidden": true
   },
   "outputs": [],
   "source": [
    "model = Sequential([\n",
    "    Dense(targets.shape[1], input_shape=(features.shape[1],),\n",
    "          activation='sigmoid')\n",
    "])"
   ]
  },
  {
   "cell_type": "code",
   "execution_count": 113,
   "metadata": {
    "hidden": true
   },
   "outputs": [
    {
     "name": "stdout",
     "output_type": "stream",
     "text": [
      "_________________________________________________________________\n",
      "Layer (type)                 Output Shape              Param #   \n",
      "=================================================================\n",
      "dense_3 (Dense)              (None, 16)                448016    \n",
      "=================================================================\n",
      "Total params: 448,016\n",
      "Trainable params: 448,016\n",
      "Non-trainable params: 0\n",
      "_________________________________________________________________\n"
     ]
    }
   ],
   "source": [
    "model.summary()"
   ]
  },
  {
   "cell_type": "code",
   "execution_count": 116,
   "metadata": {
    "collapsed": true,
    "hidden": true
   },
   "outputs": [],
   "source": [
    "model.compile(Adam(1e-4), loss=bs_loss)"
   ]
  },
  {
   "cell_type": "code",
   "execution_count": 117,
   "metadata": {
    "hidden": true
   },
   "outputs": [
    {
     "name": "stdout",
     "output_type": "stream",
     "text": [
      "Train on 5474 samples, validate on 365 samples\n",
      "Epoch 1/10\n",
      "5474/5474 [==============================] - 0s - loss: 0.2010 - val_loss: 0.2049\n",
      "Epoch 2/10\n",
      "5474/5474 [==============================] - 0s - loss: 0.1766 - val_loss: 0.2019\n",
      "Epoch 3/10\n",
      "5474/5474 [==============================] - 0s - loss: 0.1613 - val_loss: 0.2060\n",
      "Epoch 4/10\n",
      "5474/5474 [==============================] - 0s - loss: 0.1490 - val_loss: 0.2052\n",
      "Epoch 5/10\n",
      "5474/5474 [==============================] - 0s - loss: 0.1383 - val_loss: 0.2078\n",
      "Epoch 6/10\n",
      "5474/5474 [==============================] - 0s - loss: 0.1292 - val_loss: 0.2072\n",
      "Epoch 7/10\n",
      "5474/5474 [==============================] - 0s - loss: 0.1215 - val_loss: 0.2096\n",
      "Epoch 8/10\n",
      "5474/5474 [==============================] - 0s - loss: 0.1147 - val_loss: 0.2090\n",
      "Epoch 9/10\n",
      "5474/5474 [==============================] - 0s - loss: 0.1086 - val_loss: 0.2089\n",
      "Epoch 10/10\n",
      "5474/5474 [==============================] - 0s - loss: 0.1028 - val_loss: 0.2115\n"
     ]
    },
    {
     "data": {
      "text/plain": [
       "<keras.callbacks.History at 0x7f90cbd1dbe0>"
      ]
     },
     "execution_count": 117,
     "metadata": {},
     "output_type": "execute_result"
    }
   ],
   "source": [
    "model.fit(train_features, train_targets, batch_size=128, epochs=10,\n",
    "          validation_data=(valid_features, valid_targets))"
   ]
  },
  {
   "cell_type": "code",
   "execution_count": 118,
   "metadata": {
    "collapsed": true,
    "hidden": true
   },
   "outputs": [],
   "source": [
    "preds = model.predict(valid_features)"
   ]
  },
  {
   "cell_type": "code",
   "execution_count": 119,
   "metadata": {
    "hidden": true
   },
   "outputs": [
    {
     "data": {
      "text/plain": [
       "(365, 16)"
      ]
     },
     "execution_count": 119,
     "metadata": {},
     "output_type": "execute_result"
    }
   ],
   "source": [
    "preds.shape"
   ]
  },
  {
   "cell_type": "code",
   "execution_count": 120,
   "metadata": {
    "hidden": true
   },
   "outputs": [
    {
     "data": {
      "text/plain": [
       "array([ 0.26330206,  0.21054636,  0.16216485,  0.13229996,  0.18562073,\n",
       "        0.13918187,  0.10213022,  0.12913097,  0.1416048 ,  0.15656459,\n",
       "        0.1380605 ,  0.13698256,  0.12104499,  0.09661961,  0.09592402,\n",
       "        0.13062617], dtype=float32)"
      ]
     },
     "execution_count": 120,
     "metadata": {},
     "output_type": "execute_result"
    }
   ],
   "source": [
    "preds[0]"
   ]
  },
  {
   "cell_type": "markdown",
   "metadata": {},
   "source": [
    "## Sliding input"
   ]
  },
  {
   "cell_type": "code",
   "execution_count": 27,
   "metadata": {},
   "outputs": [
    {
     "data": {
      "text/plain": [
       "(16, 365, 280, 100)"
      ]
     },
     "execution_count": 27,
     "metadata": {},
     "output_type": "execute_result"
    }
   ],
   "source": [
    "prec.shape"
   ]
  },
  {
   "cell_type": "code",
   "execution_count": 28,
   "metadata": {},
   "outputs": [
    {
     "data": {
      "text/plain": [
       "(-29.875, 39.875, 0.125, 24.875)"
      ]
     },
     "execution_count": 28,
     "metadata": {},
     "output_type": "execute_result"
    }
   ],
   "source": [
    "cropped_lon.min(), cropped_lon.max(), cropped_lat.min(), cropped_lat.max()"
   ]
  },
  {
   "cell_type": "code",
   "execution_count": 29,
   "metadata": {},
   "outputs": [
    {
     "data": {
      "text/plain": [
       "(array([-4.875, -4.625, -4.375, -4.125, -3.875, -3.625, -3.375, -3.125,\n",
       "        -2.875, -2.625, -2.375, -2.125, -1.875, -1.625, -1.375, -1.125,\n",
       "        -0.875, -0.625, -0.375, -0.125,  0.125,  0.375,  0.625,  0.875,\n",
       "         1.125,  1.375,  1.625,  1.875,  2.125,  2.375,  2.625,  2.875,\n",
       "         3.125,  3.375,  3.625,  3.875,  4.125,  4.375,  4.625,  4.875], dtype=float32),\n",
       " array([  5.125,   5.375,   5.625,   5.875,   6.125,   6.375,   6.625,\n",
       "          6.875,   7.125,   7.375,   7.625,   7.875,   8.125,   8.375,\n",
       "          8.625,   8.875,   9.125,   9.375,   9.625,   9.875,  10.125,\n",
       "         10.375,  10.625,  10.875,  11.125,  11.375,  11.625,  11.875,\n",
       "         12.125,  12.375,  12.625,  12.875,  13.125,  13.375,  13.625,\n",
       "         13.875,  14.125,  14.375,  14.625,  14.875], dtype=float32))"
      ]
     },
     "execution_count": 29,
     "metadata": {},
     "output_type": "execute_result"
    }
   ],
   "source": [
    "# Sliding indices\n",
    "# -20,-0,20,20 -30,0,40,25\n",
    "# -5, 5, 5, 15\n",
    "tar_lon_idxs = (cropped_lon > -5) & (cropped_lon < 5)\n",
    "tar_lat_idxs = (cropped_lat > 5) & (cropped_lat < 15)\n",
    "tar_lon = cropped_lon[tar_lon_idxs]\n",
    "tar_lat = cropped_lat[tar_lat_idxs]\n",
    "tar_lon, tar_lat"
   ]
  },
  {
   "cell_type": "code",
   "execution_count": 30,
   "metadata": {},
   "outputs": [
    {
     "data": {
      "text/plain": [
       "(365, 40, 40)"
      ]
     },
     "execution_count": 30,
     "metadata": {},
     "output_type": "execute_result"
    }
   ],
   "source": [
    "# Clim for target region\n",
    "tar_clim = (clim[:, tar_lon_idxs, :])[:, :, tar_lat_idxs]\n",
    "tar_clim.shape"
   ]
  },
  {
   "cell_type": "code",
   "execution_count": 31,
   "metadata": {
    "collapsed": true
   },
   "outputs": [],
   "source": [
    "ws = 5"
   ]
  },
  {
   "cell_type": "code",
   "execution_count": 32,
   "metadata": {
    "collapsed": true
   },
   "outputs": [],
   "source": [
    "window_lon_idxs = np.where(tar_lon_idxs)[0]\n",
    "window_lat_idxs = np.where(tar_lat_idxs)[0]"
   ]
  },
  {
   "cell_type": "code",
   "execution_count": 33,
   "metadata": {},
   "outputs": [
    {
     "data": {
      "text/plain": [
       "(array([100, 101, 102, 103, 104, 105, 106, 107, 108, 109, 110, 111, 112,\n",
       "        113, 114, 115, 116, 117, 118, 119, 120, 121, 122, 123, 124, 125,\n",
       "        126, 127, 128, 129, 130, 131, 132, 133, 134, 135, 136, 137, 138, 139]),\n",
       " array([20, 21, 22, 23, 24, 25, 26, 27, 28, 29, 30, 31, 32, 33, 34, 35, 36,\n",
       "        37, 38, 39, 40, 41, 42, 43, 44, 45, 46, 47, 48, 49, 50, 51, 52, 53,\n",
       "        54, 55, 56, 57, 58, 59]))"
      ]
     },
     "execution_count": 33,
     "metadata": {},
     "output_type": "execute_result"
    }
   ],
   "source": [
    "window_lon_idxs, window_lat_idxs"
   ]
  },
  {
   "cell_type": "code",
   "execution_count": null,
   "metadata": {
    "collapsed": true
   },
   "outputs": [],
   "source": []
  },
  {
   "cell_type": "code",
   "execution_count": 34,
   "metadata": {
    "collapsed": true
   },
   "outputs": [],
   "source": [
    "prec_flat = np.reshape(prec, (prec.shape[0] * 365, prec.shape[2], prec.shape[3]))\n",
    "bin_prec_flat = np.reshape(bin_prec, (bin_prec.shape[0] * 365, bin_prec.shape[2], bin_prec.shape[3]))"
   ]
  },
  {
   "cell_type": "code",
   "execution_count": 35,
   "metadata": {},
   "outputs": [
    {
     "data": {
      "text/plain": [
       "((5840, 280, 100), (5840, 280, 100))"
      ]
     },
     "execution_count": 35,
     "metadata": {},
     "output_type": "execute_result"
    }
   ],
   "source": [
    "prec_flat.shape, bin_prec_flat.shape"
   ]
  },
  {
   "cell_type": "code",
   "execution_count": 37,
   "metadata": {},
   "outputs": [],
   "source": [
    "features_list = []\n",
    "targets_list = []\n",
    "emb_list = []\n",
    "i_emb = 0\n",
    "for i in list(window_lon_idxs):\n",
    "    for j in list(window_lat_idxs):\n",
    "        features_list.append(prec_flat[:-1, i-ws:i+ws, j-ws:j+ws])\n",
    "        targets_list.append(bin_prec_flat[1:, i, j])\n",
    "        e = np.ones(bin_prec_flat.shape[0] - 1) * i_emb\n",
    "        emb_list.append(e)\n",
    "        i_emb += 1\n",
    "features = np.array(features_list)\n",
    "targets = np.array(targets_list)\n",
    "embs = np.array(emb_list)"
   ]
  },
  {
   "cell_type": "code",
   "execution_count": 38,
   "metadata": {},
   "outputs": [
    {
     "data": {
      "text/plain": [
       "((1600, 5839, 10, 10), (1600, 5839), (1600, 5839))"
      ]
     },
     "execution_count": 38,
     "metadata": {},
     "output_type": "execute_result"
    }
   ],
   "source": [
    "features.shape, targets.shape, embs.shape"
   ]
  },
  {
   "cell_type": "code",
   "execution_count": 39,
   "metadata": {
    "collapsed": true
   },
   "outputs": [],
   "source": [
    "features = features.reshape((1600, features.shape[1], (ws*2)**2))"
   ]
  },
  {
   "cell_type": "code",
   "execution_count": 41,
   "metadata": {
    "collapsed": true
   },
   "outputs": [],
   "source": [
    "train_features = features[:, :-365]\n",
    "valid_features = features[:, -365:]\n",
    "train_targets = targets[:, :-365]\n",
    "valid_targets = targets[:, -365:]\n",
    "train_embs = embs[:, :-365]\n",
    "valid_embs = embs[:, -365:]"
   ]
  },
  {
   "cell_type": "code",
   "execution_count": 42,
   "metadata": {
    "collapsed": true
   },
   "outputs": [],
   "source": [
    "train_features = train_features.reshape((-1, (ws*2)**2))\n",
    "valid_features = valid_features.reshape((-1, (ws*2)**2))\n",
    "train_targets = np.ravel(train_targets)\n",
    "valid_targets = np.ravel(valid_targets)\n",
    "train_embs = np.ravel(train_embs)\n",
    "valid_embs = np.ravel(valid_embs)"
   ]
  },
  {
   "cell_type": "code",
   "execution_count": 43,
   "metadata": {},
   "outputs": [
    {
     "data": {
      "text/plain": [
       "((8758400, 100), (584000, 100), (8758400,), (584000,))"
      ]
     },
     "execution_count": 43,
     "metadata": {},
     "output_type": "execute_result"
    }
   ],
   "source": [
    "train_features.shape, valid_features.shape, train_targets.shape, valid_targets.shape"
   ]
  },
  {
   "cell_type": "code",
   "execution_count": 44,
   "metadata": {
    "collapsed": true
   },
   "outputs": [],
   "source": [
    "train_mean = np.mean(train_features, axis=0)\n",
    "train_std = np.std(train_features, axis=0, ddof=1)\n",
    "train_std = np.maximum(1e-20, train_std)\n",
    "train_features = (train_features - train_mean) / train_std\n",
    "valid_features = (valid_features - train_mean) / train_std"
   ]
  },
  {
   "cell_type": "markdown",
   "metadata": {},
   "source": [
    "## No emb model"
   ]
  },
  {
   "cell_type": "code",
   "execution_count": 45,
   "metadata": {
    "collapsed": true
   },
   "outputs": [],
   "source": [
    "model = Sequential([\n",
    "    Dense(200, input_shape=(train_features.shape[1],),\n",
    "          activation='relu'),\n",
    "    Dense(1, activation='sigmoid')\n",
    "])"
   ]
  },
  {
   "cell_type": "code",
   "execution_count": 46,
   "metadata": {},
   "outputs": [
    {
     "name": "stdout",
     "output_type": "stream",
     "text": [
      "_________________________________________________________________\n",
      "Layer (type)                 Output Shape              Param #   \n",
      "=================================================================\n",
      "dense_1 (Dense)              (None, 200)               20200     \n",
      "_________________________________________________________________\n",
      "dense_2 (Dense)              (None, 1)                 201       \n",
      "=================================================================\n",
      "Total params: 20,401\n",
      "Trainable params: 20,401\n",
      "Non-trainable params: 0\n",
      "_________________________________________________________________\n"
     ]
    }
   ],
   "source": [
    "model.summary()"
   ]
  },
  {
   "cell_type": "code",
   "execution_count": 47,
   "metadata": {
    "collapsed": true
   },
   "outputs": [],
   "source": [
    "model.compile(Adam(1e-4), loss=bs_loss)"
   ]
  },
  {
   "cell_type": "code",
   "execution_count": 48,
   "metadata": {},
   "outputs": [
    {
     "name": "stdout",
     "output_type": "stream",
     "text": [
      "Train on 8758400 samples, validate on 584000 samples\n",
      "Epoch 1/3\n",
      "8758400/8758400 [==============================] - 28s - loss: 0.1709 - val_loss: 0.1696\n",
      "Epoch 2/3\n",
      "8758400/8758400 [==============================] - 27s - loss: 0.1687 - val_loss: 0.1688\n",
      "Epoch 3/3\n",
      "8758400/8758400 [==============================] - 28s - loss: 0.1679 - val_loss: 0.1682\n"
     ]
    },
    {
     "data": {
      "text/plain": [
       "<keras.callbacks.History at 0x7fc08419ac18>"
      ]
     },
     "execution_count": 48,
     "metadata": {},
     "output_type": "execute_result"
    }
   ],
   "source": [
    "model.fit(train_features, train_targets, batch_size=1024, epochs=3,\n",
    "          validation_data=(valid_features, valid_targets))"
   ]
  },
  {
   "cell_type": "code",
   "execution_count": 49,
   "metadata": {},
   "outputs": [
    {
     "data": {
      "text/plain": [
       "((365, 280, 100), (16, 365, 280, 100))"
      ]
     },
     "execution_count": 49,
     "metadata": {},
     "output_type": "execute_result"
    }
   ],
   "source": [
    "clim.shape, bin_prec.shape"
   ]
  },
  {
   "cell_type": "code",
   "execution_count": 52,
   "metadata": {
    "collapsed": true
   },
   "outputs": [],
   "source": [
    "tar_bin_prec = ((bin_prec[-1])[:, tar_lon_idxs, :])[:, :, tar_lat_idxs]"
   ]
  },
  {
   "cell_type": "code",
   "execution_count": 53,
   "metadata": {},
   "outputs": [
    {
     "data": {
      "text/plain": [
       "0.1597361643835617"
      ]
     },
     "execution_count": 53,
     "metadata": {},
     "output_type": "execute_result"
    }
   ],
   "source": [
    "brier_score(tar_clim, tar_bin_prec)"
   ]
  },
  {
   "cell_type": "markdown",
   "metadata": {},
   "source": [
    "## Emb model"
   ]
  },
  {
   "cell_type": "code",
   "execution_count": 54,
   "metadata": {
    "collapsed": true
   },
   "outputs": [],
   "source": [
    "from keras.models import Model\n",
    "from keras.layers import Input, Dense, merge, Embedding, Flatten, Concatenate"
   ]
  },
  {
   "cell_type": "code",
   "execution_count": 55,
   "metadata": {},
   "outputs": [
    {
     "data": {
      "text/plain": [
       "1599"
      ]
     },
     "execution_count": 55,
     "metadata": {},
     "output_type": "execute_result"
    }
   ],
   "source": [
    "max_id = int(train_embs.max())\n",
    "emb_size = 3\n",
    "max_id"
   ]
  },
  {
   "cell_type": "code",
   "execution_count": 63,
   "metadata": {},
   "outputs": [],
   "source": [
    "features_in = Input(shape=(train_features.shape[1],))\n",
    "id_in = Input(shape=(1,))\n",
    "emb = Embedding(max_id + 1, emb_size)(id_in)\n",
    "emb = Flatten()(emb)\n",
    "x = Concatenate()([features_in, emb])\n",
    "x = Dense(200, activation='relu')(x)\n",
    "x = Dense(200, activation='relu')(x)\n",
    "x = Dense(1, activation='sigmoid')(x)\n",
    "model = Model(inputs=[features_in, id_in], outputs=x)"
   ]
  },
  {
   "cell_type": "code",
   "execution_count": 64,
   "metadata": {},
   "outputs": [
    {
     "name": "stdout",
     "output_type": "stream",
     "text": [
      "____________________________________________________________________________________________________\n",
      "Layer (type)                     Output Shape          Param #     Connected to                     \n",
      "====================================================================================================\n",
      "input_7 (InputLayer)             (None, 1)             0                                            \n",
      "____________________________________________________________________________________________________\n",
      "embedding_4 (Embedding)          (None, 1, 3)          4800        input_7[0][0]                    \n",
      "____________________________________________________________________________________________________\n",
      "input_6 (InputLayer)             (None, 100)           0                                            \n",
      "____________________________________________________________________________________________________\n",
      "flatten_3 (Flatten)              (None, 3)             0           embedding_4[0][0]                \n",
      "____________________________________________________________________________________________________\n",
      "concatenate_3 (Concatenate)      (None, 103)           0           input_6[0][0]                    \n",
      "                                                                   flatten_3[0][0]                  \n",
      "____________________________________________________________________________________________________\n",
      "dense_7 (Dense)                  (None, 200)           20800       concatenate_3[0][0]              \n",
      "____________________________________________________________________________________________________\n",
      "dense_8 (Dense)                  (None, 200)           40200       dense_7[0][0]                    \n",
      "____________________________________________________________________________________________________\n",
      "dense_9 (Dense)                  (None, 1)             201         dense_8[0][0]                    \n",
      "====================================================================================================\n",
      "Total params: 66,001\n",
      "Trainable params: 66,001\n",
      "Non-trainable params: 0\n",
      "____________________________________________________________________________________________________\n"
     ]
    }
   ],
   "source": [
    "model.summary()"
   ]
  },
  {
   "cell_type": "code",
   "execution_count": 65,
   "metadata": {
    "collapsed": true
   },
   "outputs": [],
   "source": [
    "model.compile(Adam(1e-3), loss=bs_loss)"
   ]
  },
  {
   "cell_type": "code",
   "execution_count": 67,
   "metadata": {
    "collapsed": true
   },
   "outputs": [],
   "source": [
    "model.optimizer.lr = 1e-4"
   ]
  },
  {
   "cell_type": "code",
   "execution_count": 68,
   "metadata": {},
   "outputs": [
    {
     "name": "stdout",
     "output_type": "stream",
     "text": [
      "Train on 8758400 samples, validate on 584000 samples\n",
      "Epoch 1/3\n",
      "8758400/8758400 [==============================] - 41s - loss: 0.1598 - val_loss: 0.1606\n",
      "Epoch 2/3\n",
      "8758400/8758400 [==============================] - 40s - loss: 0.1595 - val_loss: 0.1603\n",
      "Epoch 3/3\n",
      "8758400/8758400 [==============================] - 40s - loss: 0.1592 - val_loss: 0.1601\n"
     ]
    },
    {
     "data": {
      "text/plain": [
       "<keras.callbacks.History at 0x7fc03050fda0>"
      ]
     },
     "execution_count": 68,
     "metadata": {},
     "output_type": "execute_result"
    }
   ],
   "source": [
    "model.fit([train_features, train_embs], train_targets, batch_size=1024, epochs=3,\n",
    "          validation_data=([valid_features, valid_embs], valid_targets))"
   ]
  },
  {
   "cell_type": "code",
   "execution_count": null,
   "metadata": {
    "collapsed": true
   },
   "outputs": [],
   "source": []
  },
  {
   "cell_type": "markdown",
   "metadata": {},
   "source": [
    "## Reshape preds"
   ]
  },
  {
   "cell_type": "code",
   "execution_count": 69,
   "metadata": {},
   "outputs": [
    {
     "data": {
      "text/plain": [
       "(584000, 1)"
      ]
     },
     "execution_count": 69,
     "metadata": {},
     "output_type": "execute_result"
    }
   ],
   "source": [
    "# Regrid predictions\n",
    "preds = model.predict([valid_features, valid_embs])\n",
    "preds.shape"
   ]
  },
  {
   "cell_type": "code",
   "execution_count": 70,
   "metadata": {
    "collapsed": true
   },
   "outputs": [],
   "source": [
    "# 1600, 365\n",
    "tmp = preds.reshape((1600, 365))"
   ]
  },
  {
   "cell_type": "code",
   "execution_count": 71,
   "metadata": {
    "collapsed": true
   },
   "outputs": [],
   "source": [
    "tmp = tmp.reshape((40, 40, 365))"
   ]
  },
  {
   "cell_type": "code",
   "execution_count": 72,
   "metadata": {},
   "outputs": [
    {
     "data": {
      "text/plain": [
       "(365, 40, 40)"
      ]
     },
     "execution_count": 72,
     "metadata": {},
     "output_type": "execute_result"
    }
   ],
   "source": [
    "tmp = np.rollaxis(tmp, 2, 0)\n",
    "tmp.shape"
   ]
  },
  {
   "cell_type": "code",
   "execution_count": 73,
   "metadata": {},
   "outputs": [
    {
     "data": {
      "text/plain": [
       "<matplotlib.image.AxesImage at 0x7fc0303688d0>"
      ]
     },
     "execution_count": 73,
     "metadata": {},
     "output_type": "execute_result"
    },
    {
     "data": {
      "image/png": "[encoded data removed]",
      "text/plain": [
       "<matplotlib.figure.Figure at 0x7fc0304febe0>"
      ]
     },
     "metadata": {},
     "output_type": "display_data"
    }
   ],
   "source": [
    "plt.imshow(tar_bin_prec[0])"
   ]
  },
  {
   "cell_type": "code",
   "execution_count": 74,
   "metadata": {},
   "outputs": [
    {
     "data": {
      "text/plain": [
       "<matplotlib.image.AxesImage at 0x7fc03041e668>"
      ]
     },
     "execution_count": 74,
     "metadata": {},
     "output_type": "execute_result"
    },
    {
     "data": {
      "image/png": "[encoded data removed]",
      "text/plain": [
       "<matplotlib.figure.Figure at 0x7fc0303446a0>"
      ]
     },
     "metadata": {},
     "output_type": "display_data"
    }
   ],
   "source": [
    "plt.imshow(tmp[0])"
   ]
  },
  {
   "cell_type": "code",
   "execution_count": 75,
   "metadata": {},
   "outputs": [
    {
     "data": {
      "text/plain": [
       "<matplotlib.image.AxesImage at 0x7fc0302ba128>"
      ]
     },
     "execution_count": 75,
     "metadata": {},
     "output_type": "execute_result"
    },
    {
     "data": {
      "image/png": "[encoded data removed]",
      "text/plain": [
       "<matplotlib.figure.Figure at 0x7fc15d98ce10>"
      ]
     },
     "metadata": {},
     "output_type": "display_data"
    }
   ],
   "source": [
    "plt.imshow(tar_clim[0])"
   ]
  },
  {
   "cell_type": "code",
   "execution_count": 76,
   "metadata": {},
   "outputs": [
    {
     "data": {
      "text/plain": [
       "0.1600738937137674"
      ]
     },
     "execution_count": 76,
     "metadata": {},
     "output_type": "execute_result"
    }
   ],
   "source": [
    "brier_score(tar_bin_prec, tmp)"
   ]
  },
  {
   "cell_type": "code",
   "execution_count": 208,
   "metadata": {
    "collapsed": true
   },
   "outputs": [],
   "source": [
    "model2 = Sequential([\n",
    "    Dense(100, input_shape=(train_features.shape[1],),\n",
    "          activation='relu'),\n",
    "    Dense(1, activation='sigmoid')\n",
    "])"
   ]
  },
  {
   "cell_type": "code",
   "execution_count": 209,
   "metadata": {
    "collapsed": true
   },
   "outputs": [],
   "source": [
    "model2.compile(Adam(1e-4), loss=bs_loss)"
   ]
  },
  {
   "cell_type": "code",
   "execution_count": 210,
   "metadata": {},
   "outputs": [
    {
     "name": "stdout",
     "output_type": "stream",
     "text": [
      "_________________________________________________________________\n",
      "Layer (type)                 Output Shape              Param #   \n",
      "=================================================================\n",
      "dense_11 (Dense)             (None, 100)               10100     \n",
      "_________________________________________________________________\n",
      "dense_12 (Dense)             (None, 1)                 101       \n",
      "=================================================================\n",
      "Total params: 10,201\n",
      "Trainable params: 10,201\n",
      "Non-trainable params: 0\n",
      "_________________________________________________________________\n"
     ]
    }
   ],
   "source": [
    "model2.summary()"
   ]
  },
  {
   "cell_type": "code",
   "execution_count": 211,
   "metadata": {},
   "outputs": [
    {
     "name": "stdout",
     "output_type": "stream",
     "text": [
      "Train on 8758400 samples, validate on 584000 samples\n",
      "Epoch 1/3\n",
      "8758400/8758400 [==============================] - 27s - loss: 0.1724 - val_loss: 0.1705\n",
      "Epoch 2/3\n",
      "8758400/8758400 [==============================] - 27s - loss: 0.1695 - val_loss: 0.1694\n",
      "Epoch 3/3\n",
      "5155840/8758400 [================>.............] - ETA: 10s - loss: 0.1686"
     ]
    },
    {
     "ename": "KeyboardInterrupt",
     "evalue": "",
     "output_type": "error",
     "traceback": [
      "\u001b[0;31m----------------------------------------------------------------\u001b[0m",
      "\u001b[0;31mKeyboardInterrupt\u001b[0m              Traceback (most recent call last)",
      "\u001b[0;32m<ipython-input-211-c67301251e64>\u001b[0m in \u001b[0;36m<module>\u001b[0;34m()\u001b[0m\n\u001b[1;32m      1\u001b[0m model2.fit(train_features, train_targets, batch_size=1024, epochs=3,\n\u001b[0;32m----> 2\u001b[0;31m           validation_data=(valid_features, valid_targets))\n\u001b[0m",
      "\u001b[0;32m~/.conda/envs/cbrain_gpu/lib/python3.6/site-packages/keras/models.py\u001b[0m in \u001b[0;36mfit\u001b[0;34m(self, x, y, batch_size, epochs, verbose, callbacks, validation_split, validation_data, shuffle, class_weight, sample_weight, initial_epoch, **kwargs)\u001b[0m\n\u001b[1;32m    868\u001b[0m                               \u001b[0mclass_weight\u001b[0m\u001b[0;34m=\u001b[0m\u001b[0mclass_weight\u001b[0m\u001b[0;34m,\u001b[0m\u001b[0;34m\u001b[0m\u001b[0m\n\u001b[1;32m    869\u001b[0m                               \u001b[0msample_weight\u001b[0m\u001b[0;34m=\u001b[0m\u001b[0msample_weight\u001b[0m\u001b[0;34m,\u001b[0m\u001b[0;34m\u001b[0m\u001b[0m\n\u001b[0;32m--> 870\u001b[0;31m                               initial_epoch=initial_epoch)\n\u001b[0m\u001b[1;32m    871\u001b[0m \u001b[0;34m\u001b[0m\u001b[0m\n\u001b[1;32m    872\u001b[0m     def evaluate(self, x, y, batch_size=32, verbose=1,\n",
      "\u001b[0;32m~/.conda/envs/cbrain_gpu/lib/python3.6/site-packages/keras/engine/training.py\u001b[0m in \u001b[0;36mfit\u001b[0;34m(self, x, y, batch_size, epochs, verbose, callbacks, validation_split, validation_data, shuffle, class_weight, sample_weight, initial_epoch, **kwargs)\u001b[0m\n\u001b[1;32m   1505\u001b[0m                               \u001b[0mval_f\u001b[0m\u001b[0;34m=\u001b[0m\u001b[0mval_f\u001b[0m\u001b[0;34m,\u001b[0m \u001b[0mval_ins\u001b[0m\u001b[0;34m=\u001b[0m\u001b[0mval_ins\u001b[0m\u001b[0;34m,\u001b[0m \u001b[0mshuffle\u001b[0m\u001b[0;34m=\u001b[0m\u001b[0mshuffle\u001b[0m\u001b[0;34m,\u001b[0m\u001b[0;34m\u001b[0m\u001b[0m\n\u001b[1;32m   1506\u001b[0m                               \u001b[0mcallback_metrics\u001b[0m\u001b[0;34m=\u001b[0m\u001b[0mcallback_metrics\u001b[0m\u001b[0;34m,\u001b[0m\u001b[0;34m\u001b[0m\u001b[0m\n\u001b[0;32m-> 1507\u001b[0;31m                               initial_epoch=initial_epoch)\n\u001b[0m\u001b[1;32m   1508\u001b[0m \u001b[0;34m\u001b[0m\u001b[0m\n\u001b[1;32m   1509\u001b[0m     \u001b[0;32mdef\u001b[0m \u001b[0mevaluate\u001b[0m\u001b[0;34m(\u001b[0m\u001b[0mself\u001b[0m\u001b[0;34m,\u001b[0m \u001b[0mx\u001b[0m\u001b[0;34m,\u001b[0m \u001b[0my\u001b[0m\u001b[0;34m,\u001b[0m \u001b[0mbatch_size\u001b[0m\u001b[0;34m=\u001b[0m\u001b[0;36m32\u001b[0m\u001b[0;34m,\u001b[0m \u001b[0mverbose\u001b[0m\u001b[0;34m=\u001b[0m\u001b[0;36m1\u001b[0m\u001b[0;34m,\u001b[0m \u001b[0msample_weight\u001b[0m\u001b[0;34m=\u001b[0m\u001b[0;32mNone\u001b[0m\u001b[0;34m)\u001b[0m\u001b[0;34m:\u001b[0m\u001b[0;34m\u001b[0m\u001b[0m\n",
      "\u001b[0;32m~/.conda/envs/cbrain_gpu/lib/python3.6/site-packages/keras/engine/training.py\u001b[0m in \u001b[0;36m_fit_loop\u001b[0;34m(self, f, ins, out_labels, batch_size, epochs, verbose, callbacks, val_f, val_ins, shuffle, callback_metrics, initial_epoch)\u001b[0m\n\u001b[1;32m   1160\u001b[0m                     \u001b[0mbatch_logs\u001b[0m\u001b[0;34m[\u001b[0m\u001b[0ml\u001b[0m\u001b[0;34m]\u001b[0m \u001b[0;34m=\u001b[0m \u001b[0mo\u001b[0m\u001b[0;34m\u001b[0m\u001b[0m\n\u001b[1;32m   1161\u001b[0m \u001b[0;34m\u001b[0m\u001b[0m\n\u001b[0;32m-> 1162\u001b[0;31m                 \u001b[0mcallbacks\u001b[0m\u001b[0;34m.\u001b[0m\u001b[0mon_batch_end\u001b[0m\u001b[0;34m(\u001b[0m\u001b[0mbatch_index\u001b[0m\u001b[0;34m,\u001b[0m \u001b[0mbatch_logs\u001b[0m\u001b[0;34m)\u001b[0m\u001b[0;34m\u001b[0m\u001b[0m\n\u001b[0m\u001b[1;32m   1163\u001b[0m                 \u001b[0;32mif\u001b[0m \u001b[0mcallback_model\u001b[0m\u001b[0;34m.\u001b[0m\u001b[0mstop_training\u001b[0m\u001b[0;34m:\u001b[0m\u001b[0;34m\u001b[0m\u001b[0m\n\u001b[1;32m   1164\u001b[0m                     \u001b[0;32mbreak\u001b[0m\u001b[0;34m\u001b[0m\u001b[0m\n",
      "\u001b[0;32m~/.conda/envs/cbrain_gpu/lib/python3.6/site-packages/keras/callbacks.py\u001b[0m in \u001b[0;36mon_batch_end\u001b[0;34m(self, batch, logs)\u001b[0m\n\u001b[1;32m    113\u001b[0m             \u001b[0mcallback\u001b[0m\u001b[0;34m.\u001b[0m\u001b[0mon_batch_end\u001b[0m\u001b[0;34m(\u001b[0m\u001b[0mbatch\u001b[0m\u001b[0;34m,\u001b[0m \u001b[0mlogs\u001b[0m\u001b[0;34m)\u001b[0m\u001b[0;34m\u001b[0m\u001b[0m\n\u001b[1;32m    114\u001b[0m         \u001b[0mself\u001b[0m\u001b[0;34m.\u001b[0m\u001b[0m_delta_ts_batch_end\u001b[0m\u001b[0;34m.\u001b[0m\u001b[0mappend\u001b[0m\u001b[0;34m(\u001b[0m\u001b[0mtime\u001b[0m\u001b[0;34m.\u001b[0m\u001b[0mtime\u001b[0m\u001b[0;34m(\u001b[0m\u001b[0;34m)\u001b[0m \u001b[0;34m-\u001b[0m \u001b[0mt_before_callbacks\u001b[0m\u001b[0;34m)\u001b[0m\u001b[0;34m\u001b[0m\u001b[0m\n\u001b[0;32m--> 115\u001b[0;31m         \u001b[0mdelta_t_median\u001b[0m \u001b[0;34m=\u001b[0m \u001b[0mnp\u001b[0m\u001b[0;34m.\u001b[0m\u001b[0mmedian\u001b[0m\u001b[0;34m(\u001b[0m\u001b[0mself\u001b[0m\u001b[0;34m.\u001b[0m\u001b[0m_delta_ts_batch_end\u001b[0m\u001b[0;34m)\u001b[0m\u001b[0;34m\u001b[0m\u001b[0m\n\u001b[0m\u001b[1;32m    116\u001b[0m         if (self._delta_t_batch > 0. and\n\u001b[1;32m    117\u001b[0m            (delta_t_median > 0.95 * self._delta_t_batch and delta_t_median > 0.1)):\n",
      "\u001b[0;32m~/.conda/envs/cbrain_gpu/lib/python3.6/site-packages/numpy/lib/function_base.py\u001b[0m in \u001b[0;36mmedian\u001b[0;34m(a, axis, out, overwrite_input, keepdims)\u001b[0m\n\u001b[1;32m   4100\u001b[0m     \"\"\"\n\u001b[1;32m   4101\u001b[0m     r, k = _ureduce(a, func=_median, axis=axis, out=out,\n\u001b[0;32m-> 4102\u001b[0;31m                     overwrite_input=overwrite_input)\n\u001b[0m\u001b[1;32m   4103\u001b[0m     \u001b[0;32mif\u001b[0m \u001b[0mkeepdims\u001b[0m\u001b[0;34m:\u001b[0m\u001b[0;34m\u001b[0m\u001b[0m\n\u001b[1;32m   4104\u001b[0m         \u001b[0;32mreturn\u001b[0m \u001b[0mr\u001b[0m\u001b[0;34m.\u001b[0m\u001b[0mreshape\u001b[0m\u001b[0;34m(\u001b[0m\u001b[0mk\u001b[0m\u001b[0;34m)\u001b[0m\u001b[0;34m\u001b[0m\u001b[0m\n",
      "\u001b[0;32m~/.conda/envs/cbrain_gpu/lib/python3.6/site-packages/numpy/lib/function_base.py\u001b[0m in \u001b[0;36m_ureduce\u001b[0;34m(a, func, **kwargs)\u001b[0m\n\u001b[1;32m   4014\u001b[0m         \u001b[0mkeepdim\u001b[0m \u001b[0;34m=\u001b[0m \u001b[0;34m[\u001b[0m\u001b[0;36m1\u001b[0m\u001b[0;34m]\u001b[0m \u001b[0;34m*\u001b[0m \u001b[0ma\u001b[0m\u001b[0;34m.\u001b[0m\u001b[0mndim\u001b[0m\u001b[0;34m\u001b[0m\u001b[0m\n\u001b[1;32m   4015\u001b[0m \u001b[0;34m\u001b[0m\u001b[0m\n\u001b[0;32m-> 4016\u001b[0;31m     \u001b[0mr\u001b[0m \u001b[0;34m=\u001b[0m \u001b[0mfunc\u001b[0m\u001b[0;34m(\u001b[0m\u001b[0ma\u001b[0m\u001b[0;34m,\u001b[0m \u001b[0;34m**\u001b[0m\u001b[0mkwargs\u001b[0m\u001b[0;34m)\u001b[0m\u001b[0;34m\u001b[0m\u001b[0m\n\u001b[0m\u001b[1;32m   4017\u001b[0m     \u001b[0;32mreturn\u001b[0m \u001b[0mr\u001b[0m\u001b[0;34m,\u001b[0m \u001b[0mkeepdim\u001b[0m\u001b[0;34m\u001b[0m\u001b[0m\n\u001b[1;32m   4018\u001b[0m \u001b[0;34m\u001b[0m\u001b[0m\n",
      "\u001b[0;32m~/.conda/envs/cbrain_gpu/lib/python3.6/site-packages/numpy/lib/function_base.py\u001b[0m in \u001b[0;36m_median\u001b[0;34m(a, axis, out, overwrite_input)\u001b[0m\n\u001b[1;32m   4152\u001b[0m     \u001b[0;32mif\u001b[0m \u001b[0mnp\u001b[0m\u001b[0;34m.\u001b[0m\u001b[0missubdtype\u001b[0m\u001b[0;34m(\u001b[0m\u001b[0ma\u001b[0m\u001b[0;34m.\u001b[0m\u001b[0mdtype\u001b[0m\u001b[0;34m,\u001b[0m \u001b[0mnp\u001b[0m\u001b[0;34m.\u001b[0m\u001b[0minexact\u001b[0m\u001b[0;34m)\u001b[0m \u001b[0;32mand\u001b[0m \u001b[0msz\u001b[0m \u001b[0;34m>\u001b[0m \u001b[0;36m0\u001b[0m\u001b[0;34m:\u001b[0m\u001b[0;34m\u001b[0m\u001b[0m\n\u001b[1;32m   4153\u001b[0m         \u001b[0;31m# warn and return nans like mean would\u001b[0m\u001b[0;34m\u001b[0m\u001b[0;34m\u001b[0m\u001b[0m\n\u001b[0;32m-> 4154\u001b[0;31m         \u001b[0mrout\u001b[0m \u001b[0;34m=\u001b[0m \u001b[0mmean\u001b[0m\u001b[0;34m(\u001b[0m\u001b[0mpart\u001b[0m\u001b[0;34m[\u001b[0m\u001b[0mindexer\u001b[0m\u001b[0;34m]\u001b[0m\u001b[0;34m,\u001b[0m \u001b[0maxis\u001b[0m\u001b[0;34m=\u001b[0m\u001b[0maxis\u001b[0m\u001b[0;34m,\u001b[0m \u001b[0mout\u001b[0m\u001b[0;34m=\u001b[0m\u001b[0mout\u001b[0m\u001b[0;34m)\u001b[0m\u001b[0;34m\u001b[0m\u001b[0m\n\u001b[0m\u001b[1;32m   4155\u001b[0m         \u001b[0;32mreturn\u001b[0m \u001b[0mnp\u001b[0m\u001b[0;34m.\u001b[0m\u001b[0mlib\u001b[0m\u001b[0;34m.\u001b[0m\u001b[0mutils\u001b[0m\u001b[0;34m.\u001b[0m\u001b[0m_median_nancheck\u001b[0m\u001b[0;34m(\u001b[0m\u001b[0mpart\u001b[0m\u001b[0;34m,\u001b[0m \u001b[0mrout\u001b[0m\u001b[0;34m,\u001b[0m \u001b[0maxis\u001b[0m\u001b[0;34m,\u001b[0m \u001b[0mout\u001b[0m\u001b[0;34m)\u001b[0m\u001b[0;34m\u001b[0m\u001b[0m\n\u001b[1;32m   4156\u001b[0m     \u001b[0;32melse\u001b[0m\u001b[0;34m:\u001b[0m\u001b[0;34m\u001b[0m\u001b[0m\n",
      "\u001b[0;32m~/.conda/envs/cbrain_gpu/lib/python3.6/site-packages/numpy/core/fromnumeric.py\u001b[0m in \u001b[0;36mmean\u001b[0;34m(a, axis, dtype, out, keepdims)\u001b[0m\n\u001b[1;32m   2907\u001b[0m \u001b[0;34m\u001b[0m\u001b[0m\n\u001b[1;32m   2908\u001b[0m     return _methods._mean(a, axis=axis, dtype=dtype,\n\u001b[0;32m-> 2909\u001b[0;31m                           out=out, **kwargs)\n\u001b[0m\u001b[1;32m   2910\u001b[0m \u001b[0;34m\u001b[0m\u001b[0m\n\u001b[1;32m   2911\u001b[0m \u001b[0;34m\u001b[0m\u001b[0m\n",
      "\u001b[0;32m~/.conda/envs/cbrain_gpu/lib/python3.6/site-packages/numpy/core/_methods.py\u001b[0m in \u001b[0;36m_mean\u001b[0;34m(a, axis, dtype, out, keepdims)\u001b[0m\n\u001b[1;32m     78\u001b[0m             \u001b[0mret\u001b[0m \u001b[0;34m=\u001b[0m \u001b[0marr\u001b[0m\u001b[0;34m.\u001b[0m\u001b[0mdtype\u001b[0m\u001b[0;34m.\u001b[0m\u001b[0mtype\u001b[0m\u001b[0;34m(\u001b[0m\u001b[0mret\u001b[0m \u001b[0;34m/\u001b[0m \u001b[0mrcount\u001b[0m\u001b[0;34m)\u001b[0m\u001b[0;34m\u001b[0m\u001b[0m\n\u001b[1;32m     79\u001b[0m         \u001b[0;32melse\u001b[0m\u001b[0;34m:\u001b[0m\u001b[0;34m\u001b[0m\u001b[0m\n\u001b[0;32m---> 80\u001b[0;31m             \u001b[0mret\u001b[0m \u001b[0;34m=\u001b[0m \u001b[0mret\u001b[0m\u001b[0;34m.\u001b[0m\u001b[0mdtype\u001b[0m\u001b[0;34m.\u001b[0m\u001b[0mtype\u001b[0m\u001b[0;34m(\u001b[0m\u001b[0mret\u001b[0m \u001b[0;34m/\u001b[0m \u001b[0mrcount\u001b[0m\u001b[0;34m)\u001b[0m\u001b[0;34m\u001b[0m\u001b[0m\n\u001b[0m\u001b[1;32m     81\u001b[0m     \u001b[0;32melse\u001b[0m\u001b[0;34m:\u001b[0m\u001b[0;34m\u001b[0m\u001b[0m\n\u001b[1;32m     82\u001b[0m         \u001b[0mret\u001b[0m \u001b[0;34m=\u001b[0m \u001b[0mret\u001b[0m \u001b[0;34m/\u001b[0m \u001b[0mrcount\u001b[0m\u001b[0;34m\u001b[0m\u001b[0m\n",
      "\u001b[0;31mKeyboardInterrupt\u001b[0m: "
     ]
    }
   ],
   "source": [
    "model2.fit(train_features, train_targets, batch_size=1024, epochs=3,\n",
    "          validation_data=(valid_features, valid_targets))"
   ]
  },
  {
   "cell_type": "code",
   "execution_count": null,
   "metadata": {
    "collapsed": true
   },
   "outputs": [],
   "source": []
  }
 ],
 "metadata": {
  "kernelspec": {
   "display_name": "Python 3",
   "language": "python",
   "name": "python3"
  },
  "language_info": {
   "codemirror_mode": {
    "name": "ipython",
    "version": 3
   },
   "file_extension": ".py",
   "mimetype": "text/x-python",
   "name": "python",
   "nbconvert_exporter": "python",
   "pygments_lexer": "ipython3",
   "version": "3.6.2"
  },
  "toc": {
   "nav_menu": {},
   "number_sections": true,
   "sideBar": true,
   "skip_h1_title": true,
   "toc_cell": true,
   "toc_position": {},
   "toc_section_display": "block",
   "toc_window_display": false
  }
 },
 "nbformat": 4,
 "nbformat_minor": 2
}
