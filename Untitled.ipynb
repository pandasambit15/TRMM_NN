{
 "cells": [
  {
   "cell_type": "markdown",
   "metadata": {
    "toc": "true"
   },
   "source": [
    " # Table of Contents\n",
    "<div class=\"toc\" style=\"margin-top: 1em;\"><ul class=\"toc-item\" id=\"toc-level0\"><li><span><a href=\"http://localhost:8888/notebooks/Untitled.ipynb#Get-data\" data-toc-modified-id=\"Get-data-1\"><span class=\"toc-item-num\">1&nbsp;&nbsp;</span>Get data</a></span></li><li><span><a href=\"http://localhost:8888/notebooks/Untitled.ipynb#Read-and-preprocess-data\" data-toc-modified-id=\"Read-and-preprocess-data-2\"><span class=\"toc-item-num\">2&nbsp;&nbsp;</span>Read and preprocess data</a></span></li><li><span><a href=\"http://localhost:8888/notebooks/Untitled.ipynb#Compute-climatology\" data-toc-modified-id=\"Compute-climatology-3\"><span class=\"toc-item-num\">3&nbsp;&nbsp;</span>Compute climatology</a></span></li><li><span><a href=\"http://localhost:8888/notebooks/Untitled.ipynb#Prep-data-for-network\" data-toc-modified-id=\"Prep-data-for-network-4\"><span class=\"toc-item-num\">4&nbsp;&nbsp;</span>Prep data for network</a></span></li><li><span><a href=\"http://localhost:8888/notebooks/Untitled.ipynb#Simple-network\" data-toc-modified-id=\"Simple-network-5\"><span class=\"toc-item-num\">5&nbsp;&nbsp;</span>Simple network</a></span></li></ul></div>"
   ]
  },
  {
   "cell_type": "markdown",
   "metadata": {},
   "source": [
    "# Trial: TRMM predictions for West Africa\n",
    "\n",
    "1. Get data\n",
    "2. Read and preprocess data\n",
    "3. Compute climatology and reference score\n",
    "4. Prepare data for network\n",
    "5. Simple reference experiments"
   ]
  },
  {
   "cell_type": "code",
   "execution_count": 5,
   "metadata": {
    "collapsed": true
   },
   "outputs": [],
   "source": [
    "# Imports\n",
    "import netCDF4 as nc\n",
    "import numpy as np\n",
    "import h5py\n",
    "import matplotlib.pyplot as plt\n",
    "from datetime import datetime, timedelta"
   ]
  },
  {
   "cell_type": "code",
   "execution_count": 2,
   "metadata": {},
   "outputs": [],
   "source": [
    "# Plotting setup\n",
    "%matplotlib inline\n",
    "np.random.seed(42)\n",
    "plt.rcParams[\"figure.figsize\"] = (10,7)"
   ]
  },
  {
   "cell_type": "markdown",
   "metadata": {},
   "source": [
    "## Get data\n",
    "\n",
    "https://disc.gsfc.nasa.gov/data-access#mac_linux_wget\n",
    "\n",
    "wget --user \"raspstephan\"  --password \"***\" --dns-timeout=5 --connect-timeout=8 -e robots=off -N -r -np -nv -c -nd -A nc4 -P /Volumes/STICK/data/TRMM/ -i TRMM_3B42RT_Daily_V7_links_20171117_195558.txt"
   ]
  },
  {
   "cell_type": "markdown",
   "metadata": {},
   "source": [
    "## Read and preprocess data"
   ]
  },
  {
   "cell_type": "code",
   "execution_count": 3,
   "metadata": {},
   "outputs": [],
   "source": [
    "data_dir = '/Volumes/STICK/data/TRMM/'"
   ]
  },
  {
   "cell_type": "code",
   "execution_count": 14,
   "metadata": {
    "collapsed": true
   },
   "outputs": [],
   "source": [
    "rg = nc.Dataset(data_dir + '3B42RT_Daily.20010101.7.nc4')"
   ]
  },
  {
   "cell_type": "code",
   "execution_count": 15,
   "metadata": {},
   "outputs": [
    {
     "data": {
      "text/plain": [
       "<class 'netCDF4._netCDF4.Dataset'>\n",
       "root group (NETCDF4 data model, file format HDF5):\n",
       "    BeginDate: 2001-01-01\n",
       "    BeginTime: 01:30:00.000Z\n",
       "    EndDate: 2001-01-02\n",
       "    EndTime: 01:29:59.999Z\n",
       "    FileHeader: StartGranuleDateTime=2001-01-01T01:30:00.000Z;\n",
       "StopGranuleDateTime=2001-01-02T01:29:59.999Z\n",
       "    InputPointer: /ftp/data/s4pa/.Zxt5FGhb5T/TRMM_RT/TRMM_3B42RT.7/2001/001/3B42RT.2001010103.7R2.nc4;/ftp/data/s4pa/.Zxt5FGhb5T/TRMM_RT/TRMM_3B42RT.7/2001/001/3B42RT.2001010106.7R2.nc4;/ftp/data/s4pa/.Zxt5FGhb5T/TRMM_RT/TRMM_3B42RT.7/2001/001/3B42RT.2001010109.7R2.nc4;/ftp/data/s4pa/.Zxt5FGhb5T/TRMM_RT/TRMM_3B42RT.7/2001/001/3B42RT.2001010112.7R2.nc4;/ftp/data/s4pa/.Zxt5FGhb5T/TRMM_RT/TRMM_3B42RT.7/2001/001/3B42RT.2001010115.7R2.nc4;/ftp/data/s4pa/.Zxt5FGhb5T/TRMM_RT/TRMM_3B42RT.7/2001/001/3B42RT.2001010118.7R2.nc4;/ftp/data/s4pa/.Zxt5FGhb5T/TRMM_RT/TRMM_3B42RT.7/2001/001/3B42RT.2001010121.7R2.nc4;/ftp/data/s4pa/.Zxt5FGhb5T/TRMM_RT/TRMM_3B42RT.7/2001/001/3B42RT.2001010200.7R2.nc4\n",
       "    title: TRMM (TMPA) Near Real-Time 3B42 L3 Daily  0.25 x 0.25 degree (TRMM_3B42RT_Daily)\n",
       "    ProductionTime: 2016-07-20T16:14:23.000Z\n",
       "    dimensions(sizes): lon(1440), lat(480)\n",
       "    variables(dimensions): float32 \u001b[4mprecipitation\u001b[0m(lon,lat), int8 \u001b[4mprecipitation_cnt\u001b[0m(lon,lat), float32 \u001b[4muncal_precipitation\u001b[0m(lon,lat), int8 \u001b[4muncal_precipitation_cnt\u001b[0m(lon,lat), float32 \u001b[4mrandomError\u001b[0m(lon,lat), int8 \u001b[4mrandomError_cnt\u001b[0m(lon,lat), float32 \u001b[4mlon\u001b[0m(lon), float32 \u001b[4mlat\u001b[0m(lat)\n",
       "    groups: "
      ]
     },
     "execution_count": 15,
     "metadata": {},
     "output_type": "execute_result"
    }
   ],
   "source": [
    "rg"
   ]
  },
  {
   "cell_type": "code",
   "execution_count": 19,
   "metadata": {},
   "outputs": [
    {
     "data": {
      "text/plain": [
       "array([-179.875, -179.625, -179.375, ...,  179.375,  179.625,  179.875], dtype=float32)"
      ]
     },
     "execution_count": 19,
     "metadata": {},
     "output_type": "execute_result"
    }
   ],
   "source": [
    "lon = rg.variables['lon'][:]\n",
    "lon"
   ]
  },
  {
   "cell_type": "code",
   "execution_count": 20,
   "metadata": {
    "scrolled": true
   },
   "outputs": [
    {
     "data": {
      "text/plain": [
       "array([-59.875, -59.625, -59.375, -59.125, -58.875, -58.625, -58.375,\n",
       "       -58.125, -57.875, -57.625, -57.375, -57.125, -56.875, -56.625,\n",
       "       -56.375, -56.125, -55.875, -55.625, -55.375, -55.125, -54.875,\n",
       "       -54.625, -54.375, -54.125, -53.875, -53.625, -53.375, -53.125,\n",
       "       -52.875, -52.625, -52.375, -52.125, -51.875, -51.625, -51.375,\n",
       "       -51.125, -50.875, -50.625, -50.375, -50.125, -49.875, -49.625,\n",
       "       -49.375, -49.125, -48.875, -48.625, -48.375, -48.125, -47.875,\n",
       "       -47.625, -47.375, -47.125, -46.875, -46.625, -46.375, -46.125,\n",
       "       -45.875, -45.625, -45.375, -45.125, -44.875, -44.625, -44.375,\n",
       "       -44.125, -43.875, -43.625, -43.375, -43.125, -42.875, -42.625,\n",
       "       -42.375, -42.125, -41.875, -41.625, -41.375, -41.125, -40.875,\n",
       "       -40.625, -40.375, -40.125, -39.875, -39.625, -39.375, -39.125,\n",
       "       -38.875, -38.625, -38.375, -38.125, -37.875, -37.625, -37.375,\n",
       "       -37.125, -36.875, -36.625, -36.375, -36.125, -35.875, -35.625,\n",
       "       -35.375, -35.125, -34.875, -34.625, -34.375, -34.125, -33.875,\n",
       "       -33.625, -33.375, -33.125, -32.875, -32.625, -32.375, -32.125,\n",
       "       -31.875, -31.625, -31.375, -31.125, -30.875, -30.625, -30.375,\n",
       "       -30.125, -29.875, -29.625, -29.375, -29.125, -28.875, -28.625,\n",
       "       -28.375, -28.125, -27.875, -27.625, -27.375, -27.125, -26.875,\n",
       "       -26.625, -26.375, -26.125, -25.875, -25.625, -25.375, -25.125,\n",
       "       -24.875, -24.625, -24.375, -24.125, -23.875, -23.625, -23.375,\n",
       "       -23.125, -22.875, -22.625, -22.375, -22.125, -21.875, -21.625,\n",
       "       -21.375, -21.125, -20.875, -20.625, -20.375, -20.125, -19.875,\n",
       "       -19.625, -19.375, -19.125, -18.875, -18.625, -18.375, -18.125,\n",
       "       -17.875, -17.625, -17.375, -17.125, -16.875, -16.625, -16.375,\n",
       "       -16.125, -15.875, -15.625, -15.375, -15.125, -14.875, -14.625,\n",
       "       -14.375, -14.125, -13.875, -13.625, -13.375, -13.125, -12.875,\n",
       "       -12.625, -12.375, -12.125, -11.875, -11.625, -11.375, -11.125,\n",
       "       -10.875, -10.625, -10.375, -10.125,  -9.875,  -9.625,  -9.375,\n",
       "        -9.125,  -8.875,  -8.625,  -8.375,  -8.125,  -7.875,  -7.625,\n",
       "        -7.375,  -7.125,  -6.875,  -6.625,  -6.375,  -6.125,  -5.875,\n",
       "        -5.625,  -5.375,  -5.125,  -4.875,  -4.625,  -4.375,  -4.125,\n",
       "        -3.875,  -3.625,  -3.375,  -3.125,  -2.875,  -2.625,  -2.375,\n",
       "        -2.125,  -1.875,  -1.625,  -1.375,  -1.125,  -0.875,  -0.625,\n",
       "        -0.375,  -0.125,   0.125,   0.375,   0.625,   0.875,   1.125,\n",
       "         1.375,   1.625,   1.875,   2.125,   2.375,   2.625,   2.875,\n",
       "         3.125,   3.375,   3.625,   3.875,   4.125,   4.375,   4.625,\n",
       "         4.875,   5.125,   5.375,   5.625,   5.875,   6.125,   6.375,\n",
       "         6.625,   6.875,   7.125,   7.375,   7.625,   7.875,   8.125,\n",
       "         8.375,   8.625,   8.875,   9.125,   9.375,   9.625,   9.875,\n",
       "        10.125,  10.375,  10.625,  10.875,  11.125,  11.375,  11.625,\n",
       "        11.875,  12.125,  12.375,  12.625,  12.875,  13.125,  13.375,\n",
       "        13.625,  13.875,  14.125,  14.375,  14.625,  14.875,  15.125,\n",
       "        15.375,  15.625,  15.875,  16.125,  16.375,  16.625,  16.875,\n",
       "        17.125,  17.375,  17.625,  17.875,  18.125,  18.375,  18.625,\n",
       "        18.875,  19.125,  19.375,  19.625,  19.875,  20.125,  20.375,\n",
       "        20.625,  20.875,  21.125,  21.375,  21.625,  21.875,  22.125,\n",
       "        22.375,  22.625,  22.875,  23.125,  23.375,  23.625,  23.875,\n",
       "        24.125,  24.375,  24.625,  24.875,  25.125,  25.375,  25.625,\n",
       "        25.875,  26.125,  26.375,  26.625,  26.875,  27.125,  27.375,\n",
       "        27.625,  27.875,  28.125,  28.375,  28.625,  28.875,  29.125,\n",
       "        29.375,  29.625,  29.875,  30.125,  30.375,  30.625,  30.875,\n",
       "        31.125,  31.375,  31.625,  31.875,  32.125,  32.375,  32.625,\n",
       "        32.875,  33.125,  33.375,  33.625,  33.875,  34.125,  34.375,\n",
       "        34.625,  34.875,  35.125,  35.375,  35.625,  35.875,  36.125,\n",
       "        36.375,  36.625,  36.875,  37.125,  37.375,  37.625,  37.875,\n",
       "        38.125,  38.375,  38.625,  38.875,  39.125,  39.375,  39.625,\n",
       "        39.875,  40.125,  40.375,  40.625,  40.875,  41.125,  41.375,\n",
       "        41.625,  41.875,  42.125,  42.375,  42.625,  42.875,  43.125,\n",
       "        43.375,  43.625,  43.875,  44.125,  44.375,  44.625,  44.875,\n",
       "        45.125,  45.375,  45.625,  45.875,  46.125,  46.375,  46.625,\n",
       "        46.875,  47.125,  47.375,  47.625,  47.875,  48.125,  48.375,\n",
       "        48.625,  48.875,  49.125,  49.375,  49.625,  49.875,  50.125,\n",
       "        50.375,  50.625,  50.875,  51.125,  51.375,  51.625,  51.875,\n",
       "        52.125,  52.375,  52.625,  52.875,  53.125,  53.375,  53.625,\n",
       "        53.875,  54.125,  54.375,  54.625,  54.875,  55.125,  55.375,\n",
       "        55.625,  55.875,  56.125,  56.375,  56.625,  56.875,  57.125,\n",
       "        57.375,  57.625,  57.875,  58.125,  58.375,  58.625,  58.875,\n",
       "        59.125,  59.375,  59.625,  59.875], dtype=float32)"
      ]
     },
     "execution_count": 20,
     "metadata": {},
     "output_type": "execute_result"
    }
   ],
   "source": [
    "lat = rg.variables['lat'][:]\n",
    "lat"
   ]
  },
  {
   "cell_type": "code",
   "execution_count": 21,
   "metadata": {
    "collapsed": true
   },
   "outputs": [],
   "source": [
    "# Define lat-lon regions\n",
    "# For input -60,-10,70,30\n",
    "lat_idxs = (lat > -10) & (lat < 30)\n",
    "lon_idxs = (lon > -60) & (lon < 70)"
   ]
  },
  {
   "cell_type": "code",
   "execution_count": 27,
   "metadata": {
    "collapsed": true
   },
   "outputs": [],
   "source": [
    "cropped_lon = lon[lon_idxs]\n",
    "cropped_lat = lat[lat_idxs]"
   ]
  },
  {
   "cell_type": "code",
   "execution_count": 4,
   "metadata": {
    "collapsed": true
   },
   "outputs": [],
   "source": [
    "# Read all of 2001\n",
    "def get_trmm_fn(data_dir, yyyy, mm, dd):\n",
    "    fn = (data_dir + '/3B42RT_Daily.' + str(yyyy) + str(mm).zfill(2) + \n",
    "          str(dd).zfill(2) + '.7.nc4')\n",
    "    return fn"
   ]
  },
  {
   "cell_type": "code",
   "execution_count": 44,
   "metadata": {},
   "outputs": [],
   "source": [
    "def get_prec_year(yyyy):\n",
    "    prec_list = []\n",
    "    td_start = datetime(yyyy, 1, 1)\n",
    "    td_stop = datetime(yyyy + 1, 1, 1)\n",
    "    t = td_start\n",
    "    while t < td_stop:\n",
    "        # skip leap days\n",
    "        if t.month == 2 and t.day == 29:\n",
    "            print('Leap day', t)\n",
    "            t += timedelta(days=1)\n",
    "            continue\n",
    "        fn = get_trmm_fn(data_dir, t.year, t.month, t.day)\n",
    "        with nc.Dataset(fn) as rg:\n",
    "            p = rg.variables['precipitation'][lon_idxs, lat_idxs]\n",
    "        prec_list.append(p)\n",
    "        t += timedelta(days=1)\n",
    "    return np.array(prec_list)"
   ]
  },
  {
   "cell_type": "code",
   "execution_count": 45,
   "metadata": {
    "collapsed": true
   },
   "outputs": [],
   "source": [
    "def loop_years(yyyy_start, yyyy_stop):\n",
    "    year_list = []\n",
    "    for yyyy in range(yyyy_start, yyyy_stop + 1):\n",
    "        print(yyyy)\n",
    "        year_list.append(get_prec_year(yyyy))\n",
    "    return np.array(year_list)"
   ]
  },
  {
   "cell_type": "code",
   "execution_count": 53,
   "metadata": {},
   "outputs": [
    {
     "name": "stdout",
     "output_type": "stream",
     "text": [
      "2001\n",
      "2002\n",
      "2003\n",
      "2004\n",
      "Leap day 2004-02-29 00:00:00\n",
      "2005\n",
      "2006\n",
      "2007\n",
      "2008\n",
      "Leap day 2008-02-29 00:00:00\n",
      "2009\n",
      "2010\n",
      "2011\n"
     ]
    }
   ],
   "source": [
    "prec = loop_years(2001, 2011)"
   ]
  },
  {
   "cell_type": "code",
   "execution_count": 54,
   "metadata": {},
   "outputs": [
    {
     "data": {
      "text/plain": [
       "(11, 365, 520, 160)"
      ]
     },
     "execution_count": 54,
     "metadata": {},
     "output_type": "execute_result"
    }
   ],
   "source": [
    "prec.shape"
   ]
  },
  {
   "cell_type": "code",
   "execution_count": 55,
   "metadata": {
    "collapsed": true
   },
   "outputs": [],
   "source": [
    "thresh = 0.1"
   ]
  },
  {
   "cell_type": "code",
   "execution_count": 56,
   "metadata": {
    "collapsed": true
   },
   "outputs": [],
   "source": [
    "bin_prec = np.array(prec > 0.1, dtype=int)"
   ]
  },
  {
   "cell_type": "code",
   "execution_count": 57,
   "metadata": {},
   "outputs": [
    {
     "data": {
      "text/plain": [
       "<matplotlib.image.AxesImage at 0x119185a20>"
      ]
     },
     "execution_count": 57,
     "metadata": {},
     "output_type": "execute_result"
    },
    {
     "data": {
      "image/png": "[encoded data removed]",
      "text/plain": [
       "<matplotlib.figure.Figure at 0x118a8d390>"
      ]
     },
     "metadata": {},
     "output_type": "display_data"
    }
   ],
   "source": [
    "plt.imshow(prec[0, 0].T)"
   ]
  },
  {
   "cell_type": "code",
   "execution_count": 61,
   "metadata": {},
   "outputs": [
    {
     "ename": "OSError",
     "evalue": "334048000 requested and 115613672 written",
     "output_type": "error",
     "traceback": [
      "\u001b[0;31m----------------------------------------------------------------\u001b[0m",
      "\u001b[0;31mOSError\u001b[0m                        Traceback (most recent call last)",
      "\u001b[0;32m<ipython-input-61-dda6ba9f6f3e>\u001b[0m in \u001b[0;36m<module>\u001b[0;34m()\u001b[0m\n\u001b[0;32m----> 1\u001b[0;31m \u001b[0mnp\u001b[0m\u001b[0;34m.\u001b[0m\u001b[0msave\u001b[0m\u001b[0;34m(\u001b[0m\u001b[0mdata_dir\u001b[0m \u001b[0;34m+\u001b[0m \u001b[0;34m'pp_prec.npy'\u001b[0m\u001b[0;34m,\u001b[0m \u001b[0mprec\u001b[0m\u001b[0;34m)\u001b[0m\u001b[0;34m\u001b[0m\u001b[0m\n\u001b[0m",
      "\u001b[0;32m~/anaconda/envs/p36_trmm/lib/python3.6/site-packages/numpy/lib/npyio.py\u001b[0m in \u001b[0;36msave\u001b[0;34m(file, arr, allow_pickle, fix_imports)\u001b[0m\n\u001b[1;32m    507\u001b[0m         \u001b[0marr\u001b[0m \u001b[0;34m=\u001b[0m \u001b[0mnp\u001b[0m\u001b[0;34m.\u001b[0m\u001b[0masanyarray\u001b[0m\u001b[0;34m(\u001b[0m\u001b[0marr\u001b[0m\u001b[0;34m)\u001b[0m\u001b[0;34m\u001b[0m\u001b[0m\n\u001b[1;32m    508\u001b[0m         format.write_array(fid, arr, allow_pickle=allow_pickle,\n\u001b[0;32m--> 509\u001b[0;31m                            pickle_kwargs=pickle_kwargs)\n\u001b[0m\u001b[1;32m    510\u001b[0m     \u001b[0;32mfinally\u001b[0m\u001b[0;34m:\u001b[0m\u001b[0;34m\u001b[0m\u001b[0m\n\u001b[1;32m    511\u001b[0m         \u001b[0;32mif\u001b[0m \u001b[0mown_fid\u001b[0m\u001b[0;34m:\u001b[0m\u001b[0;34m\u001b[0m\u001b[0m\n",
      "\u001b[0;32m~/anaconda/envs/p36_trmm/lib/python3.6/site-packages/numpy/lib/format.py\u001b[0m in \u001b[0;36mwrite_array\u001b[0;34m(fp, array, version, allow_pickle, pickle_kwargs)\u001b[0m\n\u001b[1;32m    585\u001b[0m     \u001b[0;32melse\u001b[0m\u001b[0;34m:\u001b[0m\u001b[0;34m\u001b[0m\u001b[0m\n\u001b[1;32m    586\u001b[0m         \u001b[0;32mif\u001b[0m \u001b[0misfileobj\u001b[0m\u001b[0;34m(\u001b[0m\u001b[0mfp\u001b[0m\u001b[0;34m)\u001b[0m\u001b[0;34m:\u001b[0m\u001b[0;34m\u001b[0m\u001b[0m\n\u001b[0;32m--> 587\u001b[0;31m             \u001b[0marray\u001b[0m\u001b[0;34m.\u001b[0m\u001b[0mtofile\u001b[0m\u001b[0;34m(\u001b[0m\u001b[0mfp\u001b[0m\u001b[0;34m)\u001b[0m\u001b[0;34m\u001b[0m\u001b[0m\n\u001b[0m\u001b[1;32m    588\u001b[0m         \u001b[0;32melse\u001b[0m\u001b[0;34m:\u001b[0m\u001b[0;34m\u001b[0m\u001b[0m\n\u001b[1;32m    589\u001b[0m             for chunk in numpy.nditer(\n",
      "\u001b[0;31mOSError\u001b[0m: 334048000 requested and 115613672 written"
     ]
    }
   ],
   "source": [
    "np.save(data_dir + 'pp_prec.npy', prec)"
   ]
  },
  {
   "cell_type": "markdown",
   "metadata": {},
   "source": [
    "## Compute climatology"
   ]
  },
  {
   "cell_type": "code",
   "execution_count": 52,
   "metadata": {
    "collapsed": true
   },
   "outputs": [],
   "source": [
    "def get_clim(bin_prec):\n",
    "    return np.mean(bin_prec, axis=0)"
   ]
  },
  {
   "cell_type": "code",
   "execution_count": 58,
   "metadata": {
    "collapsed": true
   },
   "outputs": [],
   "source": [
    "clim = get_clim(bin_prec)"
   ]
  },
  {
   "cell_type": "code",
   "execution_count": 59,
   "metadata": {
    "collapsed": true
   },
   "outputs": [],
   "source": [
    "def brier_score(y_true, y_pred):\n",
    "    return np.mean(np.squarere(y_true - y_pred))"
   ]
  },
  {
   "cell_type": "code",
   "execution_count": 62,
   "metadata": {},
   "outputs": [
    {
     "data": {
      "text/plain": [
       "0.12100382225962064"
      ]
     },
     "execution_count": 62,
     "metadata": {},
     "output_type": "execute_result"
    }
   ],
   "source": [
    "brier_score(clim, bin_prec[-1])"
   ]
  },
  {
   "cell_type": "markdown",
   "metadata": {},
   "source": [
    "## Prep data for network"
   ]
  },
  {
   "cell_type": "code",
   "execution_count": 63,
   "metadata": {},
   "outputs": [
    {
     "data": {
      "text/plain": [
       "(11, 365, 520, 160)"
      ]
     },
     "execution_count": 63,
     "metadata": {},
     "output_type": "execute_result"
    }
   ],
   "source": [
    "prec.shape"
   ]
  },
  {
   "cell_type": "code",
   "execution_count": 64,
   "metadata": {},
   "outputs": [
    {
     "data": {
      "text/plain": [
       "(11, 365, 520, 160)"
      ]
     },
     "execution_count": 64,
     "metadata": {},
     "output_type": "execute_result"
    }
   ],
   "source": [
    "bin_prec.shape"
   ]
  },
  {
   "cell_type": "code",
   "execution_count": 65,
   "metadata": {},
   "outputs": [
    {
     "data": {
      "text/plain": [
       "((520,), (160,))"
      ]
     },
     "execution_count": 65,
     "metadata": {},
     "output_type": "execute_result"
    }
   ],
   "source": [
    "cropped_lon.shape, cropped_lat.shape"
   ]
  },
  {
   "cell_type": "code",
   "execution_count": 114,
   "metadata": {},
   "outputs": [
    {
     "data": {
      "text/plain": [
       "(array([ 5.125,  5.375,  5.625,  5.875], dtype=float32),\n",
       " array([ 7.125,  7.375,  7.625,  7.875], dtype=float32))"
      ]
     },
     "execution_count": 114,
     "metadata": {},
     "output_type": "execute_result"
    }
   ],
   "source": [
    "# -20,-0,20,20\n",
    "# Way too large\n",
    "tar_lon_idxs = (cropped_lon > 5) & (cropped_lon < 6)\n",
    "tar_lat_idxs = (cropped_lat > 7) & (cropped_lat < 8)\n",
    "tar_lon = cropped_lon[tar_lon_idxs]\n",
    "tar_lat = cropped_lat[tar_lat_idxs]\n",
    "tar_lon, tar_lat"
   ]
  },
  {
   "cell_type": "code",
   "execution_count": 123,
   "metadata": {},
   "outputs": [
    {
     "data": {
      "text/plain": [
       "(4015, 520, 160)"
      ]
     },
     "execution_count": 123,
     "metadata": {},
     "output_type": "execute_result"
    }
   ],
   "source": [
    "features = np.reshape(prec, (11 * 365, 520, 160))\n",
    "features.shape"
   ]
  },
  {
   "cell_type": "code",
   "execution_count": 124,
   "metadata": {},
   "outputs": [
    {
     "data": {
      "text/plain": [
       "(4014, 520, 160)"
      ]
     },
     "execution_count": 124,
     "metadata": {},
     "output_type": "execute_result"
    }
   ],
   "source": [
    "# last day of 2010 to 30 dec 2011\n",
    "features = features[:-1]\n",
    "features.shape"
   ]
  },
  {
   "cell_type": "code",
   "execution_count": 125,
   "metadata": {},
   "outputs": [
    {
     "data": {
      "text/plain": [
       "(11, 365, 4, 4)"
      ]
     },
     "execution_count": 125,
     "metadata": {},
     "output_type": "execute_result"
    }
   ],
   "source": [
    "targets = (bin_prec[:, :, tar_lon_idxs, :])[:, :, :, tar_lat_idxs]\n",
    "targets.shape"
   ]
  },
  {
   "cell_type": "code",
   "execution_count": 126,
   "metadata": {},
   "outputs": [
    {
     "data": {
      "text/plain": [
       "(4015, 4, 4)"
      ]
     },
     "execution_count": 126,
     "metadata": {},
     "output_type": "execute_result"
    }
   ],
   "source": [
    "targets = np.reshape(targets, (11 * 365, targets.shape[2], targets.shape[3]))\n",
    "targets.shape"
   ]
  },
  {
   "cell_type": "code",
   "execution_count": 127,
   "metadata": {},
   "outputs": [
    {
     "data": {
      "text/plain": [
       "(4014, 4, 4)"
      ]
     },
     "execution_count": 127,
     "metadata": {},
     "output_type": "execute_result"
    }
   ],
   "source": [
    "targets = targets[1:]\n",
    "targets.shape"
   ]
  },
  {
   "cell_type": "code",
   "execution_count": 128,
   "metadata": {},
   "outputs": [
    {
     "data": {
      "text/plain": [
       "<matplotlib.image.AxesImage at 0x12c06e4e0>"
      ]
     },
     "execution_count": 128,
     "metadata": {},
     "output_type": "execute_result"
    },
    {
     "data": {
      "image/png": "[encoded data removed]",
      "text/plain": [
       "<matplotlib.figure.Figure at 0x128d3a588>"
      ]
     },
     "metadata": {},
     "output_type": "display_data"
    }
   ],
   "source": [
    "plt.imshow(features[0].T)"
   ]
  },
  {
   "cell_type": "code",
   "execution_count": 129,
   "metadata": {},
   "outputs": [
    {
     "data": {
      "text/plain": [
       "<matplotlib.image.AxesImage at 0x12c233780>"
      ]
     },
     "execution_count": 129,
     "metadata": {},
     "output_type": "execute_result"
    },
    {
     "data": {
      "image/png": "[encoded data removed]",
      "text/plain": [
       "<matplotlib.figure.Figure at 0x12c07e7b8>"
      ]
     },
     "metadata": {},
     "output_type": "display_data"
    }
   ],
   "source": [
    "plt.imshow(targets[0].T)"
   ]
  },
  {
   "cell_type": "code",
   "execution_count": 130,
   "metadata": {},
   "outputs": [
    {
     "data": {
      "text/plain": [
       "(365, 4, 4)"
      ]
     },
     "execution_count": 130,
     "metadata": {},
     "output_type": "execute_result"
    }
   ],
   "source": [
    "# Clim for target region\n",
    "tar_clim = (clim[:, tar_lon_idxs, :])[:, :, tar_lat_idxs]\n",
    "tar_clim.shape"
   ]
  },
  {
   "cell_type": "code",
   "execution_count": 131,
   "metadata": {},
   "outputs": [
    {
     "data": {
      "text/plain": [
       "0.17540756254953016"
      ]
     },
     "execution_count": 131,
     "metadata": {},
     "output_type": "execute_result"
    }
   ],
   "source": [
    "# BS for target region in 2011\n",
    "brier_score(tar_clim, targets[-365:])"
   ]
  },
  {
   "cell_type": "code",
   "execution_count": 132,
   "metadata": {},
   "outputs": [
    {
     "data": {
      "text/plain": [
       "((4014, 520, 160), (4014, 4, 4))"
      ]
     },
     "execution_count": 132,
     "metadata": {},
     "output_type": "execute_result"
    }
   ],
   "source": [
    "features.shape, targets.shape"
   ]
  },
  {
   "cell_type": "code",
   "execution_count": 133,
   "metadata": {},
   "outputs": [
    {
     "data": {
      "text/plain": [
       "((4014, 83200), (4014, 16))"
      ]
     },
     "execution_count": 133,
     "metadata": {},
     "output_type": "execute_result"
    }
   ],
   "source": [
    "features = np.reshape(features, (features.shape[0], -1))\n",
    "targets = np.reshape(targets, (targets.shape[0], -1))\n",
    "features.shape, targets.shape"
   ]
  },
  {
   "cell_type": "code",
   "execution_count": 143,
   "metadata": {
    "collapsed": true
   },
   "outputs": [],
   "source": [
    "train_features = features[:-365]\n",
    "valid_features = features[-365:]\n",
    "train_targets = targets[:-365]\n",
    "valid_targets = targets[-365:]"
   ]
  },
  {
   "cell_type": "markdown",
   "metadata": {},
   "source": [
    "## Simple network"
   ]
  },
  {
   "cell_type": "code",
   "execution_count": 135,
   "metadata": {},
   "outputs": [],
   "source": [
    "import keras\n",
    "import keras.backend as K\n",
    "from keras.models import Sequential\n",
    "from keras.layers import Dense\n",
    "from keras.optimizers import Adam"
   ]
  },
  {
   "cell_type": "code",
   "execution_count": 141,
   "metadata": {
    "collapsed": true
   },
   "outputs": [],
   "source": [
    "def bs_loss(y_true, y_pred):\n",
    "    return K.mean(K.square(y_true - y_pred))"
   ]
  },
  {
   "cell_type": "code",
   "execution_count": 137,
   "metadata": {},
   "outputs": [
    {
     "data": {
      "text/plain": [
       "((4014, 83200), (4014, 16))"
      ]
     },
     "execution_count": 137,
     "metadata": {},
     "output_type": "execute_result"
    }
   ],
   "source": [
    "features.shape, targets.shape"
   ]
  },
  {
   "cell_type": "code",
   "execution_count": 138,
   "metadata": {},
   "outputs": [],
   "source": [
    "model = Sequential([\n",
    "    Dense(targets.shape[1], input_shape=(features.shape[1],),\n",
    "          activation='sigmoid')\n",
    "])"
   ]
  },
  {
   "cell_type": "code",
   "execution_count": 139,
   "metadata": {},
   "outputs": [
    {
     "name": "stdout",
     "output_type": "stream",
     "text": [
      "_________________________________________________________________\n",
      "Layer (type)                 Output Shape              Param #   \n",
      "=================================================================\n",
      "dense_3 (Dense)              (None, 16)                1331216   \n",
      "=================================================================\n",
      "Total params: 1,331,216\n",
      "Trainable params: 1,331,216\n",
      "Non-trainable params: 0\n",
      "_________________________________________________________________\n"
     ]
    }
   ],
   "source": [
    "model.summary()"
   ]
  },
  {
   "cell_type": "code",
   "execution_count": 142,
   "metadata": {},
   "outputs": [],
   "source": [
    "model.compile(Adam(0.001), loss=bs_loss)"
   ]
  },
  {
   "cell_type": "code",
   "execution_count": null,
   "metadata": {},
   "outputs": [
    {
     "name": "stdout",
     "output_type": "stream",
     "text": [
      "Train on 3649 samples, validate on 365 samples\n",
      "Epoch 1/1\n"
     ]
    }
   ],
   "source": [
    "model.fit(train_features, train_targets, batch_size=124, epochs=1,\n",
    "          validation_data=(valid_features, valid_targets))"
   ]
  },
  {
   "cell_type": "code",
   "execution_count": null,
   "metadata": {
    "collapsed": true
   },
   "outputs": [],
   "source": []
  }
 ],
 "metadata": {
  "kernelspec": {
   "display_name": "Python 3",
   "language": "python",
   "name": "python3"
  },
  "language_info": {
   "codemirror_mode": {
    "name": "ipython",
    "version": 3
   },
   "file_extension": ".py",
   "mimetype": "text/x-python",
   "name": "python",
   "nbconvert_exporter": "python",
   "pygments_lexer": "ipython3",
   "version": "3.6.2"
  },
  "toc": {
   "nav_menu": {},
   "number_sections": true,
   "sideBar": true,
   "skip_h1_title": true,
   "toc_cell": true,
   "toc_position": {},
   "toc_section_display": "block",
   "toc_window_display": false
  }
 },
 "nbformat": 4,
 "nbformat_minor": 2
}
